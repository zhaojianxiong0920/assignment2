{
  "nbformat": 4,
  "nbformat_minor": 0,
  "metadata": {
    "kernelspec": {
      "display_name": "Python 3",
      "language": "python",
      "name": "python3"
    },
    "language_info": {
      "codemirror_mode": {
        "name": "ipython",
        "version": 3
      },
      "file_extension": ".py",
      "mimetype": "text/x-python",
      "name": "python",
      "nbconvert_exporter": "python",
      "pygments_lexer": "ipython3",
      "version": "3.7.6"
    },
    "colab": {
      "name": "“Assignment2.1 - Lists-Arrays-Matrices-Slicing-Operations_S2020.ipynb”的副本",
      "provenance": [],
      "collapsed_sections": [
        "uz5Ma86KmqE1",
        "1mGNgICNmqF9",
        "sRc3LwH2mqF-",
        "7aQZPpetmqGM",
        "rwmhjAYRmqGN",
        "7NNrkaSdmqGk",
        "XMbumQbRmqHW",
        "FacruYadmqHf",
        "ptLPR0odmqHj",
        "H6FEPaGImqH4",
        "TJZPNj2OmqIB",
        "dF3VzDwRmqIF",
        "qdfqiMVNmqIJ",
        "heCiGbXLmqIV",
        "b64nqRakmqIW",
        "Vc5O4VJxmqI3",
        "y4AAg-L8mqJS",
        "l5VO5_XAmqJz",
        "frb06c1RmqJz",
        "JSssq5pRmqKo",
        "GxjhwhtdmqLs",
        "UX-vDdEgmqLw",
        "vJeHdBeJmqLx",
        "Yb3nj0k3mqM2",
        "Abnf1_FpmqNQ",
        "98660MXamqNR",
        "0sLK7dJAmqNu",
        "hdn2_iHHmqOZ"
      ]
    }
  },
  "cells": [
    {
      "cell_type": "markdown",
      "metadata": {
        "id": "H2Q_GW4ZmqD_",
        "colab_type": "text"
      },
      "source": [
        "## Assignment 2.1:  Vectors, matrices and multidimensional arrays (Due: 2/19/20)"
      ]
    },
    {
      "cell_type": "markdown",
      "metadata": {
        "id": "rS6PTdn7mqED",
        "colab_type": "text"
      },
      "source": [
        "Adapted from Robert Johansson: Source code listings for [Numerical Python - A Practical Techniques Approach for Industry](http://www.apress.com/9781484205549) (ISBN 978-1-484205-54-9).\n",
        "\n",
        "The source code listings can be downloaded from http://www.apress.com/9781484205549"
      ]
    },
    {
      "cell_type": "code",
      "metadata": {
        "id": "dfNieW7umqEE",
        "colab_type": "code",
        "colab": {}
      },
      "source": [
        "import numpy as np"
      ],
      "execution_count": 0,
      "outputs": []
    },
    {
      "cell_type": "markdown",
      "metadata": {
        "id": "j7V2mRjFmqEJ",
        "colab_type": "text"
      },
      "source": [
        "### The NumPy array object"
      ]
    },
    {
      "cell_type": "code",
      "metadata": {
        "id": "S2ICeYMhmqEK",
        "colab_type": "code",
        "colab": {}
      },
      "source": [
        "data = np.array([[1, 2], [3, 4], [5, 6]])"
      ],
      "execution_count": 0,
      "outputs": []
    },
    {
      "cell_type": "code",
      "metadata": {
        "id": "HG1f5cwWmqEO",
        "colab_type": "code",
        "outputId": "40cd740f-79a4-4aa8-f235-58d82ec2e45b",
        "colab": {}
      },
      "source": [
        "type(data)"
      ],
      "execution_count": 0,
      "outputs": [
        {
          "output_type": "execute_result",
          "data": {
            "text/plain": [
              "numpy.ndarray"
            ]
          },
          "metadata": {
            "tags": []
          },
          "execution_count": 3
        }
      ]
    },
    {
      "cell_type": "code",
      "metadata": {
        "id": "ltFAVk-smqEU",
        "colab_type": "code",
        "outputId": "627a1d25-66a6-43eb-ba34-5b63a29e5698",
        "colab": {}
      },
      "source": [
        "data"
      ],
      "execution_count": 0,
      "outputs": [
        {
          "output_type": "execute_result",
          "data": {
            "text/plain": [
              "array([[1, 2],\n",
              "       [3, 4],\n",
              "       [5, 6]])"
            ]
          },
          "metadata": {
            "tags": []
          },
          "execution_count": 6
        }
      ]
    },
    {
      "cell_type": "code",
      "metadata": {
        "id": "Z3CMjJ-3mqEX",
        "colab_type": "code",
        "outputId": "56558f9a-7a09-4abe-ea52-147060836455",
        "colab": {}
      },
      "source": [
        "data.ndim"
      ],
      "execution_count": 0,
      "outputs": [
        {
          "output_type": "execute_result",
          "data": {
            "text/plain": [
              "2"
            ]
          },
          "metadata": {
            "tags": []
          },
          "execution_count": 5
        }
      ]
    },
    {
      "cell_type": "code",
      "metadata": {
        "id": "uLCkzTKkmqEb",
        "colab_type": "code",
        "outputId": "305df3dc-4af5-4c8f-97a1-a575929d14bb",
        "colab": {}
      },
      "source": [
        "data.shape"
      ],
      "execution_count": 0,
      "outputs": [
        {
          "output_type": "execute_result",
          "data": {
            "text/plain": [
              "(3, 2)"
            ]
          },
          "metadata": {
            "tags": []
          },
          "execution_count": 6
        }
      ]
    },
    {
      "cell_type": "code",
      "metadata": {
        "id": "ew1SuujqmqEe",
        "colab_type": "code",
        "outputId": "fb0c12f6-2b91-499e-8fe1-afe1adb07ed2",
        "colab": {}
      },
      "source": [
        "data.size"
      ],
      "execution_count": 0,
      "outputs": [
        {
          "output_type": "execute_result",
          "data": {
            "text/plain": [
              "6"
            ]
          },
          "metadata": {
            "tags": []
          },
          "execution_count": 7
        }
      ]
    },
    {
      "cell_type": "code",
      "metadata": {
        "id": "VRPvmutEmqEi",
        "colab_type": "code",
        "outputId": "06a840b4-6542-4f82-80e8-1e5c8eb1b0d4",
        "colab": {}
      },
      "source": [
        "data.dtype"
      ],
      "execution_count": 0,
      "outputs": [
        {
          "output_type": "execute_result",
          "data": {
            "text/plain": [
              "dtype('int32')"
            ]
          },
          "metadata": {
            "tags": []
          },
          "execution_count": 8
        }
      ]
    },
    {
      "cell_type": "code",
      "metadata": {
        "id": "C19yFT_ImqEl",
        "colab_type": "code",
        "outputId": "dd657a44-1881-48f4-a3c5-a697710d981e",
        "colab": {}
      },
      "source": [
        "data.nbytes"
      ],
      "execution_count": 0,
      "outputs": [
        {
          "output_type": "execute_result",
          "data": {
            "text/plain": [
              "24"
            ]
          },
          "metadata": {
            "tags": []
          },
          "execution_count": 9
        }
      ]
    },
    {
      "cell_type": "markdown",
      "metadata": {
        "id": "Cg-WZzSImqEp",
        "colab_type": "text"
      },
      "source": [
        "### <font color = 'blue'> Exercise #1: </font> \n",
        "1. Create a 3-dimensional array of integers\n",
        "2. Find all 3 of its dimensions, print them out one per line"
      ]
    },
    {
      "cell_type": "code",
      "metadata": {
        "id": "y6et8FjomqEq",
        "colab_type": "code",
        "colab": {}
      },
      "source": [
        "threed_array = np.random.randint(-10,10, size=(5,3,4))"
      ],
      "execution_count": 0,
      "outputs": []
    },
    {
      "cell_type": "code",
      "metadata": {
        "id": "_P0rdzfcmqEt",
        "colab_type": "code",
        "outputId": "c303452e-caaa-4c20-b929-4d41e0b2135f",
        "colab": {}
      },
      "source": [
        "threed_array.shape"
      ],
      "execution_count": 0,
      "outputs": [
        {
          "output_type": "execute_result",
          "data": {
            "text/plain": [
              "(5, 3, 4)"
            ]
          },
          "metadata": {
            "tags": []
          },
          "execution_count": 10
        }
      ]
    },
    {
      "cell_type": "code",
      "metadata": {
        "id": "xoyFjMpomqEx",
        "colab_type": "code",
        "outputId": "d60328b1-e539-409a-fbcc-8ca02ded76b9",
        "colab": {}
      },
      "source": [
        "for x in threed_array.shape:\n",
        "    print(x)"
      ],
      "execution_count": 0,
      "outputs": [
        {
          "output_type": "stream",
          "text": [
            "5\n",
            "3\n",
            "4\n"
          ],
          "name": "stdout"
        }
      ]
    },
    {
      "cell_type": "markdown",
      "metadata": {
        "id": "uz5Ma86KmqE1",
        "colab_type": "text"
      },
      "source": [
        "## Data types"
      ]
    },
    {
      "cell_type": "code",
      "metadata": {
        "id": "Y7g7M9qImqE2",
        "colab_type": "code",
        "outputId": "9a40441f-3c67-4387-f3a9-7e97482798a0",
        "colab": {}
      },
      "source": [
        "np.array([1, 2, 3], dtype=np.int)"
      ],
      "execution_count": 0,
      "outputs": [
        {
          "output_type": "execute_result",
          "data": {
            "text/plain": [
              "array([1, 2, 3])"
            ]
          },
          "metadata": {
            "tags": []
          },
          "execution_count": 10
        }
      ]
    },
    {
      "cell_type": "code",
      "metadata": {
        "id": "5Cd-vps4mqE5",
        "colab_type": "code",
        "outputId": "d3c88444-9526-4388-e7fa-fc0459827420",
        "colab": {}
      },
      "source": [
        "np.array([1, 2, 3], dtype=np.float)"
      ],
      "execution_count": 0,
      "outputs": [
        {
          "output_type": "execute_result",
          "data": {
            "text/plain": [
              "array([ 1.,  2.,  3.])"
            ]
          },
          "metadata": {
            "tags": []
          },
          "execution_count": 11
        }
      ]
    },
    {
      "cell_type": "code",
      "metadata": {
        "id": "OEcN4iEEmqE9",
        "colab_type": "code",
        "outputId": "bf1e3412-50c6-47cd-dc47-8c4ed1ac2b25",
        "colab": {}
      },
      "source": [
        "np.array([1, 2, 3], dtype=np.complex)"
      ],
      "execution_count": 0,
      "outputs": [
        {
          "output_type": "execute_result",
          "data": {
            "text/plain": [
              "array([ 1.+0.j,  2.+0.j,  3.+0.j])"
            ]
          },
          "metadata": {
            "tags": []
          },
          "execution_count": 12
        }
      ]
    },
    {
      "cell_type": "code",
      "metadata": {
        "id": "AC1ODLZOmqFB",
        "colab_type": "code",
        "colab": {}
      },
      "source": [
        "data = np.array([1, 2, 3], dtype=np.float)"
      ],
      "execution_count": 0,
      "outputs": []
    },
    {
      "cell_type": "code",
      "metadata": {
        "id": "wGigFVW2mqFE",
        "colab_type": "code",
        "outputId": "c72a9b30-279d-4c79-b8ff-9eedc531d121",
        "colab": {}
      },
      "source": [
        "data"
      ],
      "execution_count": 0,
      "outputs": [
        {
          "output_type": "execute_result",
          "data": {
            "text/plain": [
              "array([ 1.,  2.,  3.])"
            ]
          },
          "metadata": {
            "tags": []
          },
          "execution_count": 14
        }
      ]
    },
    {
      "cell_type": "code",
      "metadata": {
        "id": "6sxmasXZmqFH",
        "colab_type": "code",
        "outputId": "a9a36d57-c0a8-492e-90ed-b734cc7a28b5",
        "colab": {}
      },
      "source": [
        "data.dtype"
      ],
      "execution_count": 0,
      "outputs": [
        {
          "output_type": "execute_result",
          "data": {
            "text/plain": [
              "dtype('float64')"
            ]
          },
          "metadata": {
            "tags": []
          },
          "execution_count": 15
        }
      ]
    },
    {
      "cell_type": "code",
      "metadata": {
        "id": "POQzOkz7mqFL",
        "colab_type": "code",
        "colab": {}
      },
      "source": [
        "data = np.array([1, 2, 3], dtype=np.int)"
      ],
      "execution_count": 0,
      "outputs": []
    },
    {
      "cell_type": "code",
      "metadata": {
        "id": "qKLQBJlEmqFP",
        "colab_type": "code",
        "outputId": "13dfb9de-995b-4aa5-f5db-39fb058b13dd",
        "colab": {}
      },
      "source": [
        "data.dtype"
      ],
      "execution_count": 0,
      "outputs": [
        {
          "output_type": "execute_result",
          "data": {
            "text/plain": [
              "dtype('int32')"
            ]
          },
          "metadata": {
            "tags": []
          },
          "execution_count": 17
        }
      ]
    },
    {
      "cell_type": "code",
      "metadata": {
        "id": "IQW31iaSmqFS",
        "colab_type": "code",
        "outputId": "b0bda529-1dc5-4092-8afe-eb4129abfc1f",
        "colab": {}
      },
      "source": [
        "data"
      ],
      "execution_count": 0,
      "outputs": [
        {
          "output_type": "execute_result",
          "data": {
            "text/plain": [
              "array([1, 2, 3])"
            ]
          },
          "metadata": {
            "tags": []
          },
          "execution_count": 18
        }
      ]
    },
    {
      "cell_type": "code",
      "metadata": {
        "id": "gmU_UOyzmqFW",
        "colab_type": "code",
        "colab": {}
      },
      "source": [
        "data = np.array([1, 2, 3], dtype=np.float)"
      ],
      "execution_count": 0,
      "outputs": []
    },
    {
      "cell_type": "code",
      "metadata": {
        "id": "w-XyD42mmqFg",
        "colab_type": "code",
        "outputId": "400f1190-f177-4e26-f671-445c898f0fcd",
        "colab": {}
      },
      "source": [
        "data"
      ],
      "execution_count": 0,
      "outputs": [
        {
          "output_type": "execute_result",
          "data": {
            "text/plain": [
              "array([ 1.,  2.,  3.])"
            ]
          },
          "metadata": {
            "tags": []
          },
          "execution_count": 20
        }
      ]
    },
    {
      "cell_type": "code",
      "metadata": {
        "id": "nmN97HUfmqFk",
        "colab_type": "code",
        "outputId": "a0f1f85a-b47b-4b2e-dfbf-203b9b568fc6",
        "colab": {}
      },
      "source": [
        "data.astype(np.int)"
      ],
      "execution_count": 0,
      "outputs": [
        {
          "output_type": "execute_result",
          "data": {
            "text/plain": [
              "array([1, 2, 3])"
            ]
          },
          "metadata": {
            "tags": []
          },
          "execution_count": 21
        }
      ]
    },
    {
      "cell_type": "code",
      "metadata": {
        "id": "achc4KurmqFn",
        "colab_type": "code",
        "colab": {}
      },
      "source": [
        "d1 = np.array([1, 2, 3], dtype=float)"
      ],
      "execution_count": 0,
      "outputs": []
    },
    {
      "cell_type": "code",
      "metadata": {
        "id": "5bnL-sZ_mqFq",
        "colab_type": "code",
        "colab": {}
      },
      "source": [
        "d2 = np.array([1, 2, 3], dtype=complex)"
      ],
      "execution_count": 0,
      "outputs": []
    },
    {
      "cell_type": "code",
      "metadata": {
        "id": "5ldFYQ_RmqFu",
        "colab_type": "code",
        "outputId": "9a4cfbdd-b439-4638-fcff-ed1ed34cb4c7",
        "colab": {}
      },
      "source": [
        "d1 + d2"
      ],
      "execution_count": 0,
      "outputs": [
        {
          "output_type": "execute_result",
          "data": {
            "text/plain": [
              "array([ 2.+0.j,  4.+0.j,  6.+0.j])"
            ]
          },
          "metadata": {
            "tags": []
          },
          "execution_count": 24
        }
      ]
    },
    {
      "cell_type": "code",
      "metadata": {
        "id": "SNRGlaotmqFy",
        "colab_type": "code",
        "outputId": "f1b04272-c3a6-4998-f42f-31f7d096fdc0",
        "colab": {}
      },
      "source": [
        "(d1 + d2).dtype"
      ],
      "execution_count": 0,
      "outputs": [
        {
          "output_type": "execute_result",
          "data": {
            "text/plain": [
              "dtype('complex128')"
            ]
          },
          "metadata": {
            "tags": []
          },
          "execution_count": 25
        }
      ]
    },
    {
      "cell_type": "code",
      "metadata": {
        "id": "W1ZKsNyvmqF3",
        "colab_type": "code",
        "outputId": "b7aaf374-af5c-4873-9a43-684113189eec",
        "colab": {}
      },
      "source": [
        "np.sqrt(np.array([-1, 0, 1]))"
      ],
      "execution_count": 0,
      "outputs": [
        {
          "output_type": "stream",
          "text": [
            "C:\\ProgramData\\Anaconda3\\lib\\site-packages\\ipykernel_launcher.py:1: RuntimeWarning: invalid value encountered in sqrt\n",
            "  \"\"\"Entry point for launching an IPython kernel.\n"
          ],
          "name": "stderr"
        },
        {
          "output_type": "execute_result",
          "data": {
            "text/plain": [
              "array([ nan,   0.,   1.])"
            ]
          },
          "metadata": {
            "tags": []
          },
          "execution_count": 26
        }
      ]
    },
    {
      "cell_type": "code",
      "metadata": {
        "id": "6WfkgEeqmqF6",
        "colab_type": "code",
        "outputId": "bffc4832-9089-49bd-ca16-5809b8b3fcc4",
        "colab": {}
      },
      "source": [
        "np.sqrt(np.array([-1, 0, 1], dtype=complex))"
      ],
      "execution_count": 0,
      "outputs": [
        {
          "output_type": "execute_result",
          "data": {
            "text/plain": [
              "array([ 0.+1.j,  0.+0.j,  1.+0.j])"
            ]
          },
          "metadata": {
            "tags": []
          },
          "execution_count": 27
        }
      ]
    },
    {
      "cell_type": "markdown",
      "metadata": {
        "id": "1mGNgICNmqF9",
        "colab_type": "text"
      },
      "source": [
        "### <font color = 'blue'> Exercise #2: </font>\n",
        "1. Create a 2-dimensional numpy array of type float32\n",
        "2. Add it to another of same dimensions but of type float64\n",
        "3. Guess what type the entries of the sum array would be, and check your guess by carrying out the addition."
      ]
    },
    {
      "cell_type": "code",
      "metadata": {
        "id": "ijhmWoJXmwXH",
        "colab_type": "code",
        "outputId": "ab811e64-b207-403e-99af-72f8be528735",
        "colab": {
          "base_uri": "https://localhost:8080/",
          "height": 34
        }
      },
      "source": [
        "twoD_array = np.array([[1,2],[3,4]],dtype='f')\n",
        "(twoD_array).dtype"
      ],
      "execution_count": 0,
      "outputs": [
        {
          "output_type": "execute_result",
          "data": {
            "text/plain": [
              "dtype('float32')"
            ]
          },
          "metadata": {
            "tags": []
          },
          "execution_count": 3
        }
      ]
    },
    {
      "cell_type": "code",
      "metadata": {
        "id": "CIy8NOlCm1Wk",
        "colab_type": "code",
        "outputId": "eb96a7e7-bcfe-4422-bce1-824325935f26",
        "colab": {
          "base_uri": "https://localhost:8080/",
          "height": 34
        }
      },
      "source": [
        "f64array = np.array([[1,2],[3,4]],dtype='d')\n",
        "addresult = twoD_array+f64array\n",
        "addresult.dtype"
      ],
      "execution_count": 0,
      "outputs": [
        {
          "output_type": "execute_result",
          "data": {
            "text/plain": [
              "dtype('float64')"
            ]
          },
          "metadata": {
            "tags": []
          },
          "execution_count": 4
        }
      ]
    },
    {
      "cell_type": "markdown",
      "metadata": {
        "id": "sRc3LwH2mqF-",
        "colab_type": "text"
      },
      "source": [
        "### Real and imaginary parts"
      ]
    },
    {
      "cell_type": "code",
      "metadata": {
        "id": "14fECRT9mqF_",
        "colab_type": "code",
        "colab": {}
      },
      "source": [
        "data = np.array([1, 2, 3], dtype=complex)"
      ],
      "execution_count": 0,
      "outputs": []
    },
    {
      "cell_type": "code",
      "metadata": {
        "id": "r_dEKW1vmqGC",
        "colab_type": "code",
        "outputId": "95629120-699b-4778-96e2-2f611506f6ff",
        "colab": {}
      },
      "source": [
        "data"
      ],
      "execution_count": 0,
      "outputs": [
        {
          "output_type": "execute_result",
          "data": {
            "text/plain": [
              "array([ 1.+0.j,  2.+0.j,  3.+0.j])"
            ]
          },
          "metadata": {
            "tags": []
          },
          "execution_count": 29
        }
      ]
    },
    {
      "cell_type": "code",
      "metadata": {
        "id": "gugocBeGmqGF",
        "colab_type": "code",
        "outputId": "0c286f9a-6dce-4929-baa6-a7877cbc970e",
        "colab": {}
      },
      "source": [
        "data.real"
      ],
      "execution_count": 0,
      "outputs": [
        {
          "output_type": "execute_result",
          "data": {
            "text/plain": [
              "array([ 1.,  2.,  3.])"
            ]
          },
          "metadata": {
            "tags": []
          },
          "execution_count": 30
        }
      ]
    },
    {
      "cell_type": "code",
      "metadata": {
        "id": "xAdLYudWmqGI",
        "colab_type": "code",
        "outputId": "bd9f1c57-75b1-4b6d-de60-9e63c195c948",
        "colab": {}
      },
      "source": [
        "data.imag"
      ],
      "execution_count": 0,
      "outputs": [
        {
          "output_type": "execute_result",
          "data": {
            "text/plain": [
              "array([ 0.,  0.,  0.])"
            ]
          },
          "metadata": {
            "tags": []
          },
          "execution_count": 31
        }
      ]
    },
    {
      "cell_type": "markdown",
      "metadata": {
        "id": "7aQZPpetmqGM",
        "colab_type": "text"
      },
      "source": [
        "## Creating arrays"
      ]
    },
    {
      "cell_type": "markdown",
      "metadata": {
        "id": "rwmhjAYRmqGN",
        "colab_type": "text"
      },
      "source": [
        "### Arrays created from lists and other array-like objects"
      ]
    },
    {
      "cell_type": "code",
      "metadata": {
        "id": "jtEduF_DmqGO",
        "colab_type": "code",
        "colab": {}
      },
      "source": [
        "data = np.array(np.arange(16))"
      ],
      "execution_count": 0,
      "outputs": []
    },
    {
      "cell_type": "code",
      "metadata": {
        "id": "r6pLzFU9mqGR",
        "colab_type": "code",
        "outputId": "2a9badc1-d52e-4fb3-e02b-aa4eb9d74154",
        "colab": {}
      },
      "source": [
        "data"
      ],
      "execution_count": 0,
      "outputs": [
        {
          "output_type": "execute_result",
          "data": {
            "text/plain": [
              "array([ 0,  1,  2,  3,  4,  5,  6,  7,  8,  9, 10, 11, 12, 13, 14, 15])"
            ]
          },
          "metadata": {
            "tags": []
          },
          "execution_count": 26
        }
      ]
    },
    {
      "cell_type": "code",
      "metadata": {
        "id": "SjfOSUUWmqGU",
        "colab_type": "code",
        "outputId": "b22dad05-2216-4abd-b9be-2cc62599bd6a",
        "colab": {}
      },
      "source": [
        "data.reshape(-1,4)"
      ],
      "execution_count": 0,
      "outputs": [
        {
          "output_type": "execute_result",
          "data": {
            "text/plain": [
              "array([[ 0,  1,  2,  3],\n",
              "       [ 4,  5,  6,  7],\n",
              "       [ 8,  9, 10, 11],\n",
              "       [12, 13, 14, 15]])"
            ]
          },
          "metadata": {
            "tags": []
          },
          "execution_count": 31
        }
      ]
    },
    {
      "cell_type": "code",
      "metadata": {
        "id": "I6nrTknwmqGX",
        "colab_type": "code",
        "colab": {}
      },
      "source": [
        "data = np.array([[1, 2], [3, 4]])"
      ],
      "execution_count": 0,
      "outputs": []
    },
    {
      "cell_type": "code",
      "metadata": {
        "id": "_fEGe0xmmqGb",
        "colab_type": "code",
        "outputId": "226f8277-aab3-4cad-b81b-bfac0ca11754",
        "colab": {}
      },
      "source": [
        "data.ndim"
      ],
      "execution_count": 0,
      "outputs": [
        {
          "output_type": "execute_result",
          "data": {
            "text/plain": [
              "2"
            ]
          },
          "metadata": {
            "tags": []
          },
          "execution_count": 19
        }
      ]
    },
    {
      "cell_type": "code",
      "metadata": {
        "id": "Ae8UkqdkmqGh",
        "colab_type": "code",
        "outputId": "04696a65-32c3-4614-cf59-56f3f75f147e",
        "colab": {}
      },
      "source": [
        "data.shape"
      ],
      "execution_count": 0,
      "outputs": [
        {
          "output_type": "execute_result",
          "data": {
            "text/plain": [
              "(2, 2)"
            ]
          },
          "metadata": {
            "tags": []
          },
          "execution_count": 20
        }
      ]
    },
    {
      "cell_type": "markdown",
      "metadata": {
        "id": "7NNrkaSdmqGk",
        "colab_type": "text"
      },
      "source": [
        "### Arrays filled with special constant values"
      ]
    },
    {
      "cell_type": "code",
      "metadata": {
        "id": "djrB-USVmqGl",
        "colab_type": "code",
        "outputId": "cd66b352-86c8-4aa6-fc82-39d8f981b678",
        "colab": {}
      },
      "source": [
        "np.zeros((2, 3))"
      ],
      "execution_count": 0,
      "outputs": [
        {
          "output_type": "execute_result",
          "data": {
            "text/plain": [
              "array([[0., 0., 0.],\n",
              "       [0., 0., 0.]])"
            ]
          },
          "metadata": {
            "tags": []
          },
          "execution_count": 21
        }
      ]
    },
    {
      "cell_type": "code",
      "metadata": {
        "id": "VshYttivmqGo",
        "colab_type": "code",
        "outputId": "ae3c4e03-9367-41d4-f657-bc6b0fbe308b",
        "colab": {}
      },
      "source": [
        "np.ones(4)"
      ],
      "execution_count": 0,
      "outputs": [
        {
          "output_type": "execute_result",
          "data": {
            "text/plain": [
              "array([1., 1., 1., 1.])"
            ]
          },
          "metadata": {
            "tags": []
          },
          "execution_count": 22
        }
      ]
    },
    {
      "cell_type": "code",
      "metadata": {
        "id": "Rwq_YKtRmqGu",
        "colab_type": "code",
        "colab": {}
      },
      "source": [
        "data = np.ones(4)"
      ],
      "execution_count": 0,
      "outputs": []
    },
    {
      "cell_type": "code",
      "metadata": {
        "id": "iT-iSQgRmqGx",
        "colab_type": "code",
        "outputId": "0cfd029a-67e7-4218-d4dd-68a454dfc838",
        "colab": {}
      },
      "source": [
        "data.dtype"
      ],
      "execution_count": 0,
      "outputs": [
        {
          "output_type": "execute_result",
          "data": {
            "text/plain": [
              "dtype('float64')"
            ]
          },
          "metadata": {
            "tags": []
          },
          "execution_count": 24
        }
      ]
    },
    {
      "cell_type": "code",
      "metadata": {
        "id": "2d2q54_rmqG3",
        "colab_type": "code",
        "colab": {}
      },
      "source": [
        "data = np.ones(4, dtype=np.int64)"
      ],
      "execution_count": 0,
      "outputs": []
    },
    {
      "cell_type": "code",
      "metadata": {
        "id": "ixUmVimLmqG6",
        "colab_type": "code",
        "outputId": "b021d9a9-8a0f-496d-f5d5-e1b255b369a7",
        "colab": {}
      },
      "source": [
        "data.dtype"
      ],
      "execution_count": 0,
      "outputs": [
        {
          "output_type": "execute_result",
          "data": {
            "text/plain": [
              "dtype('int64')"
            ]
          },
          "metadata": {
            "tags": []
          },
          "execution_count": 26
        }
      ]
    },
    {
      "cell_type": "code",
      "metadata": {
        "id": "btXlSiwMmqG9",
        "colab_type": "code",
        "colab": {}
      },
      "source": [
        "x1 = 5.4 * np.ones(10)"
      ],
      "execution_count": 0,
      "outputs": []
    },
    {
      "cell_type": "code",
      "metadata": {
        "id": "Q0ZiWILemqHB",
        "colab_type": "code",
        "colab": {}
      },
      "source": [
        "x2 = np.full(10, 5.4)"
      ],
      "execution_count": 0,
      "outputs": []
    },
    {
      "cell_type": "code",
      "metadata": {
        "id": "RSjtZSvUmqHE",
        "colab_type": "code",
        "outputId": "82d2f584-02cf-494b-f290-9d914a9dfd18",
        "colab": {}
      },
      "source": [
        "x2"
      ],
      "execution_count": 0,
      "outputs": [
        {
          "output_type": "execute_result",
          "data": {
            "text/plain": [
              "array([5.4, 5.4, 5.4, 5.4, 5.4, 5.4, 5.4, 5.4, 5.4, 5.4])"
            ]
          },
          "metadata": {
            "tags": []
          },
          "execution_count": 33
        }
      ]
    },
    {
      "cell_type": "code",
      "metadata": {
        "id": "QBwgJK3PmqHI",
        "colab_type": "code",
        "colab": {}
      },
      "source": [
        "x1 = np.empty(5)"
      ],
      "execution_count": 0,
      "outputs": []
    },
    {
      "cell_type": "code",
      "metadata": {
        "id": "QRpvuwWnmqHL",
        "colab_type": "code",
        "colab": {}
      },
      "source": [
        "x1.fill(3.0)"
      ],
      "execution_count": 0,
      "outputs": []
    },
    {
      "cell_type": "code",
      "metadata": {
        "id": "UVzJhuZImqHN",
        "colab_type": "code",
        "outputId": "7eb1ebbd-3a33-4476-f6ba-f46a695955d8",
        "colab": {}
      },
      "source": [
        "x1"
      ],
      "execution_count": 0,
      "outputs": [
        {
          "output_type": "execute_result",
          "data": {
            "text/plain": [
              "array([3., 3., 3., 3., 3.])"
            ]
          },
          "metadata": {
            "tags": []
          },
          "execution_count": 31
        }
      ]
    },
    {
      "cell_type": "code",
      "metadata": {
        "id": "hP49nJa_mqHQ",
        "colab_type": "code",
        "colab": {}
      },
      "source": [
        "x2 = np.full(5, 3.0)"
      ],
      "execution_count": 0,
      "outputs": []
    },
    {
      "cell_type": "code",
      "metadata": {
        "id": "UTUXdSoJmqHT",
        "colab_type": "code",
        "outputId": "ca6c7681-9883-4847-d1a9-bf27491aa8c9",
        "colab": {}
      },
      "source": [
        "x2"
      ],
      "execution_count": 0,
      "outputs": [
        {
          "output_type": "execute_result",
          "data": {
            "text/plain": [
              "array([3., 3., 3., 3., 3.])"
            ]
          },
          "metadata": {
            "tags": []
          },
          "execution_count": 33
        }
      ]
    },
    {
      "cell_type": "markdown",
      "metadata": {
        "id": "XMbumQbRmqHW",
        "colab_type": "text"
      },
      "source": [
        "### Arrays filled with incremental sequences"
      ]
    },
    {
      "cell_type": "code",
      "metadata": {
        "id": "1TYZLP_WmqHW",
        "colab_type": "code",
        "outputId": "da5568d1-148a-4738-c822-9fc0bb216ea4",
        "colab": {}
      },
      "source": [
        "np.arange(0.0, 10, 1)"
      ],
      "execution_count": 0,
      "outputs": [
        {
          "output_type": "execute_result",
          "data": {
            "text/plain": [
              "array([0., 1., 2., 3., 4., 5., 6., 7., 8., 9.])"
            ]
          },
          "metadata": {
            "tags": []
          },
          "execution_count": 34
        }
      ]
    },
    {
      "cell_type": "code",
      "metadata": {
        "id": "r0p4EmJNmqHZ",
        "colab_type": "code",
        "outputId": "7b30a27e-5083-4785-f53c-6e2e0b585228",
        "colab": {}
      },
      "source": [
        "np.linspace(0, 10, 11)"
      ],
      "execution_count": 0,
      "outputs": [
        {
          "output_type": "execute_result",
          "data": {
            "text/plain": [
              "array([ 0.,  1.,  2.,  3.,  4.,  5.,  6.,  7.,  8.,  9., 10.])"
            ]
          },
          "metadata": {
            "tags": []
          },
          "execution_count": 35
        }
      ]
    },
    {
      "cell_type": "markdown",
      "metadata": {
        "id": "FacruYadmqHf",
        "colab_type": "text"
      },
      "source": [
        "### Arrays filled with logarithmic sequences"
      ]
    },
    {
      "cell_type": "code",
      "metadata": {
        "id": "3n4MKgVTmqHg",
        "colab_type": "code",
        "outputId": "9c809433-8a63-41c3-c44f-70847f7ea564",
        "colab": {}
      },
      "source": [
        "np.logspace(0, 2, 5)  # 5 data points between 10**0=1 to 10**2=100"
      ],
      "execution_count": 0,
      "outputs": [
        {
          "output_type": "execute_result",
          "data": {
            "text/plain": [
              "array([  1.        ,   3.16227766,  10.        ,  31.6227766 ,\n",
              "       100.        ])"
            ]
          },
          "metadata": {
            "tags": []
          },
          "execution_count": 36
        }
      ]
    },
    {
      "cell_type": "markdown",
      "metadata": {
        "id": "ptLPR0odmqHj",
        "colab_type": "text"
      },
      "source": [
        "### Mesh-grid arrays"
      ]
    },
    {
      "cell_type": "code",
      "metadata": {
        "id": "KS-VhwwfmqHk",
        "colab_type": "code",
        "colab": {}
      },
      "source": [
        "x = np.array([-1, 0, 1])"
      ],
      "execution_count": 0,
      "outputs": []
    },
    {
      "cell_type": "code",
      "metadata": {
        "id": "Ge2QDZp6mqHm",
        "colab_type": "code",
        "colab": {}
      },
      "source": [
        "y = np.array([-2, 0, 2])"
      ],
      "execution_count": 0,
      "outputs": []
    },
    {
      "cell_type": "code",
      "metadata": {
        "id": "nxchpg0ymqHo",
        "colab_type": "code",
        "colab": {}
      },
      "source": [
        "X, Y = np.meshgrid(x, y)"
      ],
      "execution_count": 0,
      "outputs": []
    },
    {
      "cell_type": "code",
      "metadata": {
        "id": "f8EkGc5cmqHr",
        "colab_type": "code",
        "outputId": "5c417569-5e77-4040-e191-534d3168e7b3",
        "colab": {}
      },
      "source": [
        "X"
      ],
      "execution_count": 0,
      "outputs": [
        {
          "output_type": "execute_result",
          "data": {
            "text/plain": [
              "array([[-1,  0,  1],\n",
              "       [-1,  0,  1],\n",
              "       [-1,  0,  1]])"
            ]
          },
          "metadata": {
            "tags": []
          },
          "execution_count": 40
        }
      ]
    },
    {
      "cell_type": "code",
      "metadata": {
        "id": "-5zWhwY3mqH1",
        "colab_type": "code",
        "outputId": "8b207fca-770e-400a-81bb-66911d20db1f",
        "colab": {}
      },
      "source": [
        "Y"
      ],
      "execution_count": 0,
      "outputs": [
        {
          "output_type": "execute_result",
          "data": {
            "text/plain": [
              "array([[-2, -2, -2],\n",
              "       [ 0,  0,  0],\n",
              "       [ 2,  2,  2]])"
            ]
          },
          "metadata": {
            "tags": []
          },
          "execution_count": 41
        }
      ]
    },
    {
      "cell_type": "markdown",
      "metadata": {
        "id": "H6FEPaGImqH4",
        "colab_type": "text"
      },
      "source": [
        "### <font color = 'blue'> Exercise #3: </font> Meshgrid produces the Cartesian product of the arrays, except that the x-values and y-values are kept seperate\n",
        "\n",
        "1. Generate a meshgrid X,Y of x = a sequence of integers 1...5 and y of -1,0,1\n",
        "2. How many entries will X have? Y?"
      ]
    },
    {
      "cell_type": "code",
      "metadata": {
        "id": "nPWAWBy1m-Ak",
        "colab_type": "code",
        "colab": {}
      },
      "source": [
        "x = np.arange(1,6,1)\n",
        "y = np.array([-1,0,1])\n",
        "X, Y = np.meshgrid(x,y)"
      ],
      "execution_count": 0,
      "outputs": []
    },
    {
      "cell_type": "code",
      "metadata": {
        "id": "xD_CXi3omqH5",
        "colab_type": "code",
        "colab": {}
      },
      "source": [
        "Z = (X + Y) ** 2"
      ],
      "execution_count": 0,
      "outputs": []
    },
    {
      "cell_type": "code",
      "metadata": {
        "id": "Li-Wmh4cmqH9",
        "colab_type": "code",
        "outputId": "e6d69d8c-e2ad-4317-8ad0-afbaf9432d21",
        "colab": {}
      },
      "source": [
        "Z"
      ],
      "execution_count": 0,
      "outputs": [
        {
          "output_type": "execute_result",
          "data": {
            "text/plain": [
              "array([[9, 4, 1],\n",
              "       [1, 0, 1],\n",
              "       [1, 4, 9]], dtype=int32)"
            ]
          },
          "metadata": {
            "tags": []
          },
          "execution_count": 43
        }
      ]
    },
    {
      "cell_type": "markdown",
      "metadata": {
        "id": "TJZPNj2OmqIB",
        "colab_type": "text"
      },
      "source": [
        "### Creating uninitialized arrays"
      ]
    },
    {
      "cell_type": "code",
      "metadata": {
        "id": "3cvTaiJLmqIB",
        "colab_type": "code",
        "outputId": "3e08343c-7120-41ed-a7ae-336d7a8583af",
        "colab": {}
      },
      "source": [
        "np.empty(3, dtype=np.float)"
      ],
      "execution_count": 0,
      "outputs": [
        {
          "output_type": "execute_result",
          "data": {
            "text/plain": [
              "array([8.15931808e-312, 0.00000000e+000, 6.95229481e-310])"
            ]
          },
          "metadata": {
            "tags": []
          },
          "execution_count": 44
        }
      ]
    },
    {
      "cell_type": "markdown",
      "metadata": {
        "id": "dF3VzDwRmqIF",
        "colab_type": "text"
      },
      "source": [
        "### Creating arrays with properties of other arrays"
      ]
    },
    {
      "cell_type": "code",
      "metadata": {
        "id": "AzljeyWZmqIG",
        "colab_type": "code",
        "colab": {}
      },
      "source": [
        "def f(x):\n",
        "    y = np.ones_like(x)\n",
        "    # compute with x and y\n",
        "    return y"
      ],
      "execution_count": 0,
      "outputs": []
    },
    {
      "cell_type": "markdown",
      "metadata": {
        "id": "qdfqiMVNmqIJ",
        "colab_type": "text"
      },
      "source": [
        "### Creating special matrix arrays"
      ]
    },
    {
      "cell_type": "code",
      "metadata": {
        "id": "cr8b7iVymqIK",
        "colab_type": "code",
        "outputId": "25efbdfe-8f08-4c62-e5a1-dc36587a944a",
        "colab": {}
      },
      "source": [
        "np.identity(4)"
      ],
      "execution_count": 0,
      "outputs": [
        {
          "output_type": "execute_result",
          "data": {
            "text/plain": [
              "array([[1., 0., 0., 0.],\n",
              "       [0., 1., 0., 0.],\n",
              "       [0., 0., 1., 0.],\n",
              "       [0., 0., 0., 1.]])"
            ]
          },
          "metadata": {
            "tags": []
          },
          "execution_count": 46
        }
      ]
    },
    {
      "cell_type": "code",
      "metadata": {
        "id": "kmweccgnmqIN",
        "colab_type": "code",
        "outputId": "caf4adff-df89-40aa-efdc-94360ac66fa6",
        "colab": {}
      },
      "source": [
        "np.eye(3, k=1)"
      ],
      "execution_count": 0,
      "outputs": [
        {
          "output_type": "execute_result",
          "data": {
            "text/plain": [
              "array([[0., 1., 0.],\n",
              "       [0., 0., 1.],\n",
              "       [0., 0., 0.]])"
            ]
          },
          "metadata": {
            "tags": []
          },
          "execution_count": 47
        }
      ]
    },
    {
      "cell_type": "code",
      "metadata": {
        "id": "mDVQnL0MmqIQ",
        "colab_type": "code",
        "outputId": "2b360651-5dc2-4348-89b0-ca53efd6ade8",
        "colab": {}
      },
      "source": [
        "np.eye(3, k=-1)"
      ],
      "execution_count": 0,
      "outputs": [
        {
          "output_type": "execute_result",
          "data": {
            "text/plain": [
              "array([[0., 0., 0.],\n",
              "       [1., 0., 0.],\n",
              "       [0., 1., 0.]])"
            ]
          },
          "metadata": {
            "tags": []
          },
          "execution_count": 48
        }
      ]
    },
    {
      "cell_type": "code",
      "metadata": {
        "id": "mn-6mwozmqIS",
        "colab_type": "code",
        "outputId": "96dfeed1-ad41-4412-d81a-295a6b4ee196",
        "colab": {}
      },
      "source": [
        "np.diag(np.arange(0, 20, 5))"
      ],
      "execution_count": 0,
      "outputs": [
        {
          "output_type": "execute_result",
          "data": {
            "text/plain": [
              "array([[ 0,  0,  0,  0],\n",
              "       [ 0,  5,  0,  0],\n",
              "       [ 0,  0, 10,  0],\n",
              "       [ 0,  0,  0, 15]])"
            ]
          },
          "metadata": {
            "tags": []
          },
          "execution_count": 49
        }
      ]
    },
    {
      "cell_type": "markdown",
      "metadata": {
        "id": "heCiGbXLmqIV",
        "colab_type": "text"
      },
      "source": [
        "## Index and slicing"
      ]
    },
    {
      "cell_type": "markdown",
      "metadata": {
        "id": "b64nqRakmqIW",
        "colab_type": "text"
      },
      "source": [
        "### One-dimensional arrays"
      ]
    },
    {
      "cell_type": "code",
      "metadata": {
        "id": "cpCenyIRmqIX",
        "colab_type": "code",
        "colab": {}
      },
      "source": [
        "a = np.arange(0, 11)"
      ],
      "execution_count": 0,
      "outputs": []
    },
    {
      "cell_type": "code",
      "metadata": {
        "id": "X0irWv9xmqIa",
        "colab_type": "code",
        "outputId": "2baf9194-d4fb-4e9d-b78d-5632b0da125e",
        "colab": {}
      },
      "source": [
        "a"
      ],
      "execution_count": 0,
      "outputs": [
        {
          "output_type": "execute_result",
          "data": {
            "text/plain": [
              "array([ 0,  1,  2,  3,  4,  5,  6,  7,  8,  9, 10])"
            ]
          },
          "metadata": {
            "tags": []
          },
          "execution_count": 51
        }
      ]
    },
    {
      "cell_type": "code",
      "metadata": {
        "id": "NitXn33mmqId",
        "colab_type": "code",
        "outputId": "27c29c98-294c-4a18-90cc-405ced0e239e",
        "colab": {}
      },
      "source": [
        "a[0]  # the first element"
      ],
      "execution_count": 0,
      "outputs": [
        {
          "output_type": "execute_result",
          "data": {
            "text/plain": [
              "0"
            ]
          },
          "metadata": {
            "tags": []
          },
          "execution_count": 52
        }
      ]
    },
    {
      "cell_type": "code",
      "metadata": {
        "id": "6lBxpWRNmqIj",
        "colab_type": "code",
        "outputId": "6fc2f099-32da-4b78-dc9e-5f5f1dec81e6",
        "colab": {}
      },
      "source": [
        "a[-1] # the last element"
      ],
      "execution_count": 0,
      "outputs": [
        {
          "output_type": "execute_result",
          "data": {
            "text/plain": [
              "10"
            ]
          },
          "metadata": {
            "tags": []
          },
          "execution_count": 53
        }
      ]
    },
    {
      "cell_type": "code",
      "metadata": {
        "id": "wbBIwkaemqIm",
        "colab_type": "code",
        "outputId": "880191b3-cbe7-4a1a-fd55-de7aefe8e905",
        "colab": {}
      },
      "source": [
        "a[4]  # the fifth element, at index 4"
      ],
      "execution_count": 0,
      "outputs": [
        {
          "output_type": "execute_result",
          "data": {
            "text/plain": [
              "4"
            ]
          },
          "metadata": {
            "tags": []
          },
          "execution_count": 54
        }
      ]
    },
    {
      "cell_type": "code",
      "metadata": {
        "id": "P6F48hQnmqIo",
        "colab_type": "code",
        "outputId": "20412add-652b-4a62-93f7-92701a52059e",
        "colab": {}
      },
      "source": [
        "a[1:-1]"
      ],
      "execution_count": 0,
      "outputs": [
        {
          "output_type": "execute_result",
          "data": {
            "text/plain": [
              "array([1, 2, 3, 4, 5, 6, 7, 8, 9])"
            ]
          },
          "metadata": {
            "tags": []
          },
          "execution_count": 55
        }
      ]
    },
    {
      "cell_type": "code",
      "metadata": {
        "id": "D2QTOolimqIr",
        "colab_type": "code",
        "outputId": "778515a9-a88f-4af1-d5c0-aee238fe6d54",
        "colab": {}
      },
      "source": [
        "a[1:-1:2]"
      ],
      "execution_count": 0,
      "outputs": [
        {
          "output_type": "execute_result",
          "data": {
            "text/plain": [
              "array([1, 3, 5, 7, 9])"
            ]
          },
          "metadata": {
            "tags": []
          },
          "execution_count": 56
        }
      ]
    },
    {
      "cell_type": "code",
      "metadata": {
        "id": "9cJrDmRJmqIu",
        "colab_type": "code",
        "outputId": "ed039a87-c7b9-4303-d193-3f06ec73aacf",
        "colab": {}
      },
      "source": [
        "a[:5]"
      ],
      "execution_count": 0,
      "outputs": [
        {
          "output_type": "execute_result",
          "data": {
            "text/plain": [
              "array([0, 1, 2, 3, 4])"
            ]
          },
          "metadata": {
            "tags": []
          },
          "execution_count": 57
        }
      ]
    },
    {
      "cell_type": "code",
      "metadata": {
        "id": "dHql4GkymqIx",
        "colab_type": "code",
        "outputId": "d704ae9a-f287-4120-80cd-21f9c22a8b1b",
        "colab": {}
      },
      "source": [
        "a[-5:]"
      ],
      "execution_count": 0,
      "outputs": [
        {
          "output_type": "execute_result",
          "data": {
            "text/plain": [
              "array([ 6,  7,  8,  9, 10])"
            ]
          },
          "metadata": {
            "tags": []
          },
          "execution_count": 58
        }
      ]
    },
    {
      "cell_type": "code",
      "metadata": {
        "id": "tJ01kBdlmqI0",
        "colab_type": "code",
        "outputId": "3bf5574c-6915-438d-b8b9-64b173df9277",
        "colab": {}
      },
      "source": [
        "a[::-2]\n"
      ],
      "execution_count": 0,
      "outputs": [
        {
          "output_type": "execute_result",
          "data": {
            "text/plain": [
              "array([10,  8,  6,  4,  2,  0])"
            ]
          },
          "metadata": {
            "tags": []
          },
          "execution_count": 59
        }
      ]
    },
    {
      "cell_type": "markdown",
      "metadata": {
        "id": "Vc5O4VJxmqI3",
        "colab_type": "text"
      },
      "source": [
        "## Multidimensional arrays"
      ]
    },
    {
      "cell_type": "code",
      "metadata": {
        "id": "sD8pffcqmqI4",
        "colab_type": "code",
        "outputId": "3ca0391c-768e-49e3-8948-7f87922a1240",
        "colab": {}
      },
      "source": [
        "#The f is special function that takes two arguments m and n\n",
        "f = lambda m, n: n + 10 * m\n",
        "#The function is called with m=6, n = 6 to create a matrix (2-dim array)\n",
        "A = np.fromfunction(f, (6, 6), dtype=int)\n",
        "#prints it our\n",
        "A"
      ],
      "execution_count": 0,
      "outputs": [
        {
          "output_type": "execute_result",
          "data": {
            "text/plain": [
              "array([[ 0,  1,  2,  3,  4,  5],\n",
              "       [10, 11, 12, 13, 14, 15],\n",
              "       [20, 21, 22, 23, 24, 25],\n",
              "       [30, 31, 32, 33, 34, 35],\n",
              "       [40, 41, 42, 43, 44, 45],\n",
              "       [50, 51, 52, 53, 54, 55]])"
            ]
          },
          "metadata": {
            "tags": []
          },
          "execution_count": 64
        }
      ]
    },
    {
      "cell_type": "code",
      "metadata": {
        "id": "8YbpsPA8mqI7",
        "colab_type": "code",
        "outputId": "0135f28d-6cc1-421a-d74f-9179f228382e",
        "colab": {}
      },
      "source": [
        "A[:, 1]  # the second column"
      ],
      "execution_count": 0,
      "outputs": [
        {
          "output_type": "execute_result",
          "data": {
            "text/plain": [
              "array([ 1, 11, 21, 31, 41, 51])"
            ]
          },
          "metadata": {
            "tags": []
          },
          "execution_count": 65
        }
      ]
    },
    {
      "cell_type": "code",
      "metadata": {
        "id": "y5KsVZ8nmqI9",
        "colab_type": "code",
        "outputId": "fcae7749-f5d0-4a98-93ad-d18cedf159e8",
        "colab": {}
      },
      "source": [
        "A[1, :]  # the second row"
      ],
      "execution_count": 0,
      "outputs": [
        {
          "output_type": "execute_result",
          "data": {
            "text/plain": [
              "array([10, 11, 12, 13, 14, 15])"
            ]
          },
          "metadata": {
            "tags": []
          },
          "execution_count": 66
        }
      ]
    },
    {
      "cell_type": "code",
      "metadata": {
        "id": "kTlCeFZumqJA",
        "colab_type": "code",
        "outputId": "a0b75db0-8849-4d6b-dd35-86aeabcbab7e",
        "colab": {}
      },
      "source": [
        "A[:3, :3]  # upper half diagonal block matrix"
      ],
      "execution_count": 0,
      "outputs": [
        {
          "output_type": "execute_result",
          "data": {
            "text/plain": [
              "array([[ 0,  1,  2],\n",
              "       [10, 11, 12],\n",
              "       [20, 21, 22]])"
            ]
          },
          "metadata": {
            "tags": []
          },
          "execution_count": 67
        }
      ]
    },
    {
      "cell_type": "code",
      "metadata": {
        "id": "zUv0sbVwmqJD",
        "colab_type": "code",
        "outputId": "09bf3817-815e-4c58-cb8a-99cdf3f16934",
        "colab": {}
      },
      "source": [
        "A[3:, :3]  # lower left off-diagonal block matrix"
      ],
      "execution_count": 0,
      "outputs": [
        {
          "output_type": "execute_result",
          "data": {
            "text/plain": [
              "array([[30, 31, 32],\n",
              "       [40, 41, 42],\n",
              "       [50, 51, 52]])"
            ]
          },
          "metadata": {
            "tags": []
          },
          "execution_count": 68
        }
      ]
    },
    {
      "cell_type": "code",
      "metadata": {
        "id": "xLaqLcQQmqJG",
        "colab_type": "code",
        "outputId": "9fec9f33-a2ed-4425-8234-bcaee06989ca",
        "colab": {}
      },
      "source": [
        "A[::2, ::2]  # every second element starting from 0, 0"
      ],
      "execution_count": 0,
      "outputs": [
        {
          "output_type": "execute_result",
          "data": {
            "text/plain": [
              "array([[ 0,  2,  4],\n",
              "       [20, 22, 24],\n",
              "       [40, 42, 44]])"
            ]
          },
          "metadata": {
            "tags": []
          },
          "execution_count": 69
        }
      ]
    },
    {
      "cell_type": "code",
      "metadata": {
        "id": "CUmCHJ91mqJP",
        "colab_type": "code",
        "outputId": "0a8f99d7-3c98-4327-856a-8c5a3441fec0",
        "colab": {}
      },
      "source": [
        "A[1::2, 1::3]  # every second element starting from 1, 1"
      ],
      "execution_count": 0,
      "outputs": [
        {
          "output_type": "execute_result",
          "data": {
            "text/plain": [
              "array([[11, 14],\n",
              "       [31, 34],\n",
              "       [51, 54]])"
            ]
          },
          "metadata": {
            "tags": []
          },
          "execution_count": 70
        }
      ]
    },
    {
      "cell_type": "markdown",
      "metadata": {
        "id": "y4AAg-L8mqJS",
        "colab_type": "text"
      },
      "source": [
        "### Views"
      ]
    },
    {
      "cell_type": "code",
      "metadata": {
        "id": "EQAUgA98mqJT",
        "colab_type": "code",
        "colab": {}
      },
      "source": [
        "B = A[1:5, 1:5]"
      ],
      "execution_count": 0,
      "outputs": []
    },
    {
      "cell_type": "code",
      "metadata": {
        "id": "txEOQP3omqJW",
        "colab_type": "code",
        "outputId": "2d71a153-a96e-40a7-9402-7a85fe0762fe",
        "colab": {}
      },
      "source": [
        "B"
      ],
      "execution_count": 0,
      "outputs": [
        {
          "output_type": "execute_result",
          "data": {
            "text/plain": [
              "array([[11, 12, 13, 14],\n",
              "       [21, 22, 23, 24],\n",
              "       [31, 32, 33, 34],\n",
              "       [41, 42, 43, 44]])"
            ]
          },
          "metadata": {
            "tags": []
          },
          "execution_count": 72
        }
      ]
    },
    {
      "cell_type": "code",
      "metadata": {
        "id": "DSQI-0GAmqJY",
        "colab_type": "code",
        "colab": {}
      },
      "source": [
        "#Be extremely careful here: we are not setting B to zeros, but also changing A[1:5, 1:5] also to zeros!!!\n",
        "B[:, :] = 0"
      ],
      "execution_count": 0,
      "outputs": []
    },
    {
      "cell_type": "code",
      "metadata": {
        "id": "q0j37eWvmqJb",
        "colab_type": "code",
        "outputId": "e7ea4604-e9c6-4412-f692-fe864763436a",
        "colab": {}
      },
      "source": [
        "#As expected\n",
        "B"
      ],
      "execution_count": 0,
      "outputs": [
        {
          "output_type": "execute_result",
          "data": {
            "text/plain": [
              "array([[0, 0, 0, 0],\n",
              "       [0, 0, 0, 0],\n",
              "       [0, 0, 0, 0],\n",
              "       [0, 0, 0, 0]])"
            ]
          },
          "metadata": {
            "tags": []
          },
          "execution_count": 76
        }
      ]
    },
    {
      "cell_type": "code",
      "metadata": {
        "id": "7_PAW7W5mqJf",
        "colab_type": "code",
        "outputId": "4db93b10-d544-44f0-f6b4-2a1696f12be8",
        "colab": {}
      },
      "source": [
        "#But is this expected?\n",
        "A"
      ],
      "execution_count": 0,
      "outputs": [
        {
          "output_type": "execute_result",
          "data": {
            "text/plain": [
              "array([[ 0,  1,  2,  3,  4,  5],\n",
              "       [10,  0,  0,  0,  0, 15],\n",
              "       [20,  0,  0,  0,  0, 25],\n",
              "       [30,  0,  0,  0,  0, 35],\n",
              "       [40,  0,  0,  0,  0, 45],\n",
              "       [50, 51, 52, 53, 54, 55]])"
            ]
          },
          "metadata": {
            "tags": []
          },
          "execution_count": 77
        }
      ]
    },
    {
      "cell_type": "code",
      "metadata": {
        "id": "CPiYt_dOmqJi",
        "colab_type": "code",
        "colab": {}
      },
      "source": [
        "#If we don't want to change the original matrix use .copy() function of the array object\n",
        "C = B[1:3, 1:3].copy()"
      ],
      "execution_count": 0,
      "outputs": []
    },
    {
      "cell_type": "code",
      "metadata": {
        "id": "Iq-Q74OOmqJm",
        "colab_type": "code",
        "outputId": "e3ea9566-e463-4d21-e4bf-106e41b96230",
        "colab": {}
      },
      "source": [
        "C"
      ],
      "execution_count": 0,
      "outputs": [
        {
          "output_type": "execute_result",
          "data": {
            "text/plain": [
              "array([[0, 0],\n",
              "       [0, 0]])"
            ]
          },
          "metadata": {
            "tags": []
          },
          "execution_count": 79
        }
      ]
    },
    {
      "cell_type": "code",
      "metadata": {
        "id": "BTV0I1UamqJp",
        "colab_type": "code",
        "colab": {}
      },
      "source": [
        "C[:, :] = 1  # this does not affect B since C is a copy of the view B[1:3, 1:3]"
      ],
      "execution_count": 0,
      "outputs": []
    },
    {
      "cell_type": "code",
      "metadata": {
        "id": "KueXJo_dmqJs",
        "colab_type": "code",
        "outputId": "a80e882e-47fc-4c98-9b9d-6118e4892df1",
        "colab": {}
      },
      "source": [
        "C"
      ],
      "execution_count": 0,
      "outputs": [
        {
          "output_type": "execute_result",
          "data": {
            "text/plain": [
              "array([[1, 1],\n",
              "       [1, 1]])"
            ]
          },
          "metadata": {
            "tags": []
          },
          "execution_count": 81
        }
      ]
    },
    {
      "cell_type": "code",
      "metadata": {
        "id": "PI6ICwCumqJu",
        "colab_type": "code",
        "outputId": "a2dabf4e-ab17-4d50-83d3-f5a863a78da9",
        "colab": {}
      },
      "source": [
        "#Chaing C contents does not affect B!\n",
        "B"
      ],
      "execution_count": 0,
      "outputs": [
        {
          "output_type": "execute_result",
          "data": {
            "text/plain": [
              "array([[0, 0, 0, 0],\n",
              "       [0, 0, 0, 0],\n",
              "       [0, 0, 0, 0],\n",
              "       [0, 0, 0, 0]])"
            ]
          },
          "metadata": {
            "tags": []
          },
          "execution_count": 83
        }
      ]
    },
    {
      "cell_type": "markdown",
      "metadata": {
        "id": "l5VO5_XAmqJz",
        "colab_type": "text"
      },
      "source": [
        "### <font color = 'blue'> Exercise #4 </font>:\n",
        "1. Create an 2-dimensional numpy array of type int16\n",
        "2. Add it to another of same dimensions but of type float64\n",
        "3. Guess what type the entries of the sum array would be, and check your guess by carrying out the addition."
      ]
    },
    {
      "cell_type": "code",
      "metadata": {
        "id": "riacOZ6qnFYV",
        "colab_type": "code",
        "outputId": "2f54aee5-0d0f-46ba-8044-b8a2c5c8300f",
        "colab": {
          "base_uri": "https://localhost:8080/",
          "height": 34
        }
      },
      "source": [
        "twoD_array_1 = np.array([[1,2],[3,4]],dtype='int16')\n",
        "twoD_array_2 = np.array([[1,2],[3,4]],dtype='float64')\n",
        "addresult = twoD_array_1 + twoD_array_2\n",
        "addresult.dtype"
      ],
      "execution_count": 0,
      "outputs": [
        {
          "output_type": "execute_result",
          "data": {
            "text/plain": [
              "dtype('float64')"
            ]
          },
          "metadata": {
            "tags": []
          },
          "execution_count": 6
        }
      ]
    },
    {
      "cell_type": "markdown",
      "metadata": {
        "id": "frb06c1RmqJz",
        "colab_type": "text"
      },
      "source": [
        "### Fancy indexing and Boolean-valued indexing"
      ]
    },
    {
      "cell_type": "code",
      "metadata": {
        "id": "WXuEYG_zmqJ0",
        "colab_type": "code",
        "colab": {}
      },
      "source": [
        "A = np.linspace(0, 1, 11)"
      ],
      "execution_count": 0,
      "outputs": []
    },
    {
      "cell_type": "code",
      "metadata": {
        "id": "9kUIrJHfmqJ3",
        "colab_type": "code",
        "outputId": "4ce1dba9-434e-4b1c-c173-dba28f4ea618",
        "colab": {}
      },
      "source": [
        "A[np.array([0, 2, 4])]"
      ],
      "execution_count": 0,
      "outputs": [
        {
          "output_type": "execute_result",
          "data": {
            "text/plain": [
              "array([ 0. ,  0.2,  0.4])"
            ]
          },
          "metadata": {
            "tags": []
          },
          "execution_count": 96
        }
      ]
    },
    {
      "cell_type": "code",
      "metadata": {
        "id": "xfKsjbJxmqJ5",
        "colab_type": "code",
        "outputId": "8f56c358-5803-43d3-a6a8-c4398c7f2304",
        "colab": {}
      },
      "source": [
        "A[[0, 2, 4]]"
      ],
      "execution_count": 0,
      "outputs": [
        {
          "output_type": "execute_result",
          "data": {
            "text/plain": [
              "array([ 0. ,  0.2,  0.4])"
            ]
          },
          "metadata": {
            "tags": []
          },
          "execution_count": 97
        }
      ]
    },
    {
      "cell_type": "code",
      "metadata": {
        "id": "HRDLA9pFmqJ8",
        "colab_type": "code",
        "outputId": "9397fc70-59da-4d96-a413-48f7e7b92e8e",
        "colab": {}
      },
      "source": [
        "A > 0.5 "
      ],
      "execution_count": 0,
      "outputs": [
        {
          "output_type": "execute_result",
          "data": {
            "text/plain": [
              "array([False, False, False, False, False, False,  True,  True,  True,\n",
              "        True,  True], dtype=bool)"
            ]
          },
          "metadata": {
            "tags": []
          },
          "execution_count": 98
        }
      ]
    },
    {
      "cell_type": "code",
      "metadata": {
        "id": "NisJAa_jmqJ-",
        "colab_type": "code",
        "outputId": "a5255956-a28a-4228-80a9-f740853bdd94",
        "colab": {}
      },
      "source": [
        "A[A > 0.5]"
      ],
      "execution_count": 0,
      "outputs": [
        {
          "output_type": "execute_result",
          "data": {
            "text/plain": [
              "array([ 0.6,  0.7,  0.8,  0.9,  1. ])"
            ]
          },
          "metadata": {
            "tags": []
          },
          "execution_count": 99
        }
      ]
    },
    {
      "cell_type": "code",
      "metadata": {
        "id": "6xGltc9fmqKB",
        "colab_type": "code",
        "colab": {}
      },
      "source": [
        "A = np.arange(10)"
      ],
      "execution_count": 0,
      "outputs": []
    },
    {
      "cell_type": "code",
      "metadata": {
        "id": "Hxmg7pu9mqKD",
        "colab_type": "code",
        "outputId": "e80b429c-7a27-4d57-c6c2-59cce868a393",
        "colab": {}
      },
      "source": [
        "A"
      ],
      "execution_count": 0,
      "outputs": [
        {
          "output_type": "execute_result",
          "data": {
            "text/plain": [
              "array([0, 1, 2, 3, 4, 5, 6, 7, 8, 9])"
            ]
          },
          "metadata": {
            "tags": []
          },
          "execution_count": 101
        }
      ]
    },
    {
      "cell_type": "code",
      "metadata": {
        "id": "-hNwEhUumqKH",
        "colab_type": "code",
        "colab": {}
      },
      "source": [
        "indices = [2, 4, 6]"
      ],
      "execution_count": 0,
      "outputs": []
    },
    {
      "cell_type": "code",
      "metadata": {
        "id": "pmgjcM3umqKK",
        "colab_type": "code",
        "colab": {}
      },
      "source": [
        "B = A[indices]"
      ],
      "execution_count": 0,
      "outputs": []
    },
    {
      "cell_type": "code",
      "metadata": {
        "id": "9KOL-9C9mqKN",
        "colab_type": "code",
        "colab": {}
      },
      "source": [
        "B[0] = -1  # this does not affect A"
      ],
      "execution_count": 0,
      "outputs": []
    },
    {
      "cell_type": "code",
      "metadata": {
        "id": "lT2UYsWxmqKP",
        "colab_type": "code",
        "outputId": "f5e7d479-69e7-4372-d7e3-484050dad0dd",
        "colab": {}
      },
      "source": [
        "A"
      ],
      "execution_count": 0,
      "outputs": [
        {
          "output_type": "execute_result",
          "data": {
            "text/plain": [
              "array([0, 1, 2, 3, 4, 5, 6, 7, 8, 9])"
            ]
          },
          "metadata": {
            "tags": []
          },
          "execution_count": 105
        }
      ]
    },
    {
      "cell_type": "code",
      "metadata": {
        "id": "oqhgyVpnmqKW",
        "colab_type": "code",
        "colab": {}
      },
      "source": [
        "A[indices] = -1"
      ],
      "execution_count": 0,
      "outputs": []
    },
    {
      "cell_type": "code",
      "metadata": {
        "id": "hNUd-avMmqKY",
        "colab_type": "code",
        "outputId": "661d9251-cf91-4d18-ff60-6320bbe195d8",
        "colab": {}
      },
      "source": [
        "A"
      ],
      "execution_count": 0,
      "outputs": [
        {
          "output_type": "execute_result",
          "data": {
            "text/plain": [
              "array([ 0,  1, -1,  3, -1,  5, -1,  7,  8,  9])"
            ]
          },
          "metadata": {
            "tags": []
          },
          "execution_count": 107
        }
      ]
    },
    {
      "cell_type": "code",
      "metadata": {
        "id": "IfnF-H4VmqKa",
        "colab_type": "code",
        "colab": {}
      },
      "source": [
        "A = np.arange(10)"
      ],
      "execution_count": 0,
      "outputs": []
    },
    {
      "cell_type": "code",
      "metadata": {
        "id": "wIvq9yeFmqKc",
        "colab_type": "code",
        "colab": {}
      },
      "source": [
        "B = A[A > 5]"
      ],
      "execution_count": 0,
      "outputs": []
    },
    {
      "cell_type": "code",
      "metadata": {
        "id": "oE8Of66ZmqKe",
        "colab_type": "code",
        "colab": {}
      },
      "source": [
        "B[0] = -1  # this does not affect A"
      ],
      "execution_count": 0,
      "outputs": []
    },
    {
      "cell_type": "code",
      "metadata": {
        "id": "IsoZDAJWmqKi",
        "colab_type": "code",
        "outputId": "2a896c16-018f-470a-b8ea-00a3ff439ba5",
        "colab": {}
      },
      "source": [
        "A"
      ],
      "execution_count": 0,
      "outputs": [
        {
          "output_type": "execute_result",
          "data": {
            "text/plain": [
              "array([0, 1, 2, 3, 4, 5, 6, 7, 8, 9])"
            ]
          },
          "metadata": {
            "tags": []
          },
          "execution_count": 111
        }
      ]
    },
    {
      "cell_type": "code",
      "metadata": {
        "id": "s332JbJhmqKl",
        "colab_type": "code",
        "colab": {}
      },
      "source": [
        "A[A > 5] = -1"
      ],
      "execution_count": 0,
      "outputs": []
    },
    {
      "cell_type": "code",
      "metadata": {
        "id": "yXtbPWJwmqKm",
        "colab_type": "code",
        "outputId": "3ed1e5a6-bb6b-4d11-c22c-69d453ea0285",
        "colab": {}
      },
      "source": [
        "A"
      ],
      "execution_count": 0,
      "outputs": [
        {
          "output_type": "execute_result",
          "data": {
            "text/plain": [
              "array([ 0,  1,  2,  3,  4,  5, -1, -1, -1, -1])"
            ]
          },
          "metadata": {
            "tags": []
          },
          "execution_count": 113
        }
      ]
    },
    {
      "cell_type": "markdown",
      "metadata": {
        "id": "JSssq5pRmqKo",
        "colab_type": "text"
      },
      "source": [
        "## Reshaping and resizing"
      ]
    },
    {
      "cell_type": "code",
      "metadata": {
        "id": "GSF3E_ygmqKp",
        "colab_type": "code",
        "colab": {}
      },
      "source": [
        "data = np.array([[1, 2], [3, 4]])"
      ],
      "execution_count": 0,
      "outputs": []
    },
    {
      "cell_type": "code",
      "metadata": {
        "id": "CuU5kqwgmqKr",
        "colab_type": "code",
        "outputId": "49d8bb64-fc74-426d-8baf-ae6a3f1da623",
        "colab": {}
      },
      "source": [
        "np.reshape(data, (1, 4))"
      ],
      "execution_count": 0,
      "outputs": [
        {
          "output_type": "execute_result",
          "data": {
            "text/plain": [
              "array([[1, 2, 3, 4]])"
            ]
          },
          "metadata": {
            "tags": []
          },
          "execution_count": 115
        }
      ]
    },
    {
      "cell_type": "code",
      "metadata": {
        "id": "RdVZcZMZmqKu",
        "colab_type": "code",
        "outputId": "268f1f2c-e127-48d9-cbec-96df9ed9b0d1",
        "colab": {}
      },
      "source": [
        "data.reshape(4)"
      ],
      "execution_count": 0,
      "outputs": [
        {
          "output_type": "execute_result",
          "data": {
            "text/plain": [
              "array([1, 2, 3, 4])"
            ]
          },
          "metadata": {
            "tags": []
          },
          "execution_count": 116
        }
      ]
    },
    {
      "cell_type": "code",
      "metadata": {
        "id": "PwutPE28mqKw",
        "colab_type": "code",
        "colab": {}
      },
      "source": [
        "data = np.array([[1, 2], [3, 4]])"
      ],
      "execution_count": 0,
      "outputs": []
    },
    {
      "cell_type": "code",
      "metadata": {
        "id": "cj9QhB6omqKy",
        "colab_type": "code",
        "outputId": "1f162bfd-f894-4d58-ed68-fa825e9e886e",
        "colab": {}
      },
      "source": [
        "data"
      ],
      "execution_count": 0,
      "outputs": [
        {
          "output_type": "execute_result",
          "data": {
            "text/plain": [
              "array([[1, 2],\n",
              "       [3, 4]])"
            ]
          },
          "metadata": {
            "tags": []
          },
          "execution_count": 118
        }
      ]
    },
    {
      "cell_type": "code",
      "metadata": {
        "id": "3JEw8188mqK0",
        "colab_type": "code",
        "outputId": "2aee08c7-847c-4ca8-b4ef-d4c78fd1b726",
        "colab": {}
      },
      "source": [
        "data.flatten()"
      ],
      "execution_count": 0,
      "outputs": [
        {
          "output_type": "execute_result",
          "data": {
            "text/plain": [
              "array([1, 2, 3, 4])"
            ]
          },
          "metadata": {
            "tags": []
          },
          "execution_count": 119
        }
      ]
    },
    {
      "cell_type": "code",
      "metadata": {
        "id": "T9RQ6P8qmqK3",
        "colab_type": "code",
        "outputId": "d356c4a0-0dc6-45e2-cdb2-e1c433a2e6fc",
        "colab": {}
      },
      "source": [
        "data.flatten().shape"
      ],
      "execution_count": 0,
      "outputs": [
        {
          "output_type": "execute_result",
          "data": {
            "text/plain": [
              "(4,)"
            ]
          },
          "metadata": {
            "tags": []
          },
          "execution_count": 120
        }
      ]
    },
    {
      "cell_type": "code",
      "metadata": {
        "id": "cqiFYo8zmqK5",
        "colab_type": "code",
        "colab": {}
      },
      "source": [
        "data = np.arange(0, 5)"
      ],
      "execution_count": 0,
      "outputs": []
    },
    {
      "cell_type": "code",
      "metadata": {
        "id": "Z7pRTr7KmqK7",
        "colab_type": "code",
        "colab": {}
      },
      "source": [
        "column = data[:, np.newaxis]"
      ],
      "execution_count": 0,
      "outputs": []
    },
    {
      "cell_type": "code",
      "metadata": {
        "id": "If_S-g-gmqK-",
        "colab_type": "code",
        "outputId": "558f7ccd-ee15-49cc-cbca-7d17d72d74ca",
        "colab": {}
      },
      "source": [
        "column"
      ],
      "execution_count": 0,
      "outputs": [
        {
          "output_type": "execute_result",
          "data": {
            "text/plain": [
              "array([[0],\n",
              "       [1],\n",
              "       [2],\n",
              "       [3],\n",
              "       [4]])"
            ]
          },
          "metadata": {
            "tags": []
          },
          "execution_count": 123
        }
      ]
    },
    {
      "cell_type": "code",
      "metadata": {
        "id": "hon3SXCbmqLA",
        "colab_type": "code",
        "colab": {}
      },
      "source": [
        "row = data[np.newaxis, :]"
      ],
      "execution_count": 0,
      "outputs": []
    },
    {
      "cell_type": "code",
      "metadata": {
        "id": "71BVTQ9rmqLC",
        "colab_type": "code",
        "outputId": "317d9ce2-984c-4c85-fb31-2d1a30be290d",
        "colab": {}
      },
      "source": [
        "row"
      ],
      "execution_count": 0,
      "outputs": [
        {
          "output_type": "execute_result",
          "data": {
            "text/plain": [
              "array([[0, 1, 2, 3, 4]])"
            ]
          },
          "metadata": {
            "tags": []
          },
          "execution_count": 125
        }
      ]
    },
    {
      "cell_type": "code",
      "metadata": {
        "id": "rV0HZ9e6mqLE",
        "colab_type": "code",
        "colab": {}
      },
      "source": [
        "data = np.arange(5)"
      ],
      "execution_count": 0,
      "outputs": []
    },
    {
      "cell_type": "code",
      "metadata": {
        "id": "BrrLDfMHmqLG",
        "colab_type": "code",
        "outputId": "5e01fb9f-679b-4048-8634-a820ee42ccb9",
        "colab": {}
      },
      "source": [
        "data"
      ],
      "execution_count": 0,
      "outputs": [
        {
          "output_type": "execute_result",
          "data": {
            "text/plain": [
              "array([0, 1, 2, 3, 4])"
            ]
          },
          "metadata": {
            "tags": []
          },
          "execution_count": 127
        }
      ]
    },
    {
      "cell_type": "code",
      "metadata": {
        "id": "VijAxyHCmqLI",
        "colab_type": "code",
        "outputId": "756f6b9a-d7ad-4d32-c958-7cefe6ebe0c1",
        "colab": {}
      },
      "source": [
        "data = np.arange(9)\n",
        "data"
      ],
      "execution_count": 0,
      "outputs": [
        {
          "output_type": "execute_result",
          "data": {
            "text/plain": [
              "array([0, 1, 2, 3, 4, 5, 6, 7, 8])"
            ]
          },
          "metadata": {
            "tags": []
          },
          "execution_count": 4
        }
      ]
    },
    {
      "cell_type": "code",
      "metadata": {
        "id": "y0MiU86smqLK",
        "colab_type": "code",
        "outputId": "c3c32d9d-7d13-4d3e-ace7-b7c4a9eb3142",
        "colab": {}
      },
      "source": [
        "data.reshape(3, 3)"
      ],
      "execution_count": 0,
      "outputs": [
        {
          "output_type": "execute_result",
          "data": {
            "text/plain": [
              "array([[0, 1, 2],\n",
              "       [3, 4, 5],\n",
              "       [6, 7, 8]])"
            ]
          },
          "metadata": {
            "tags": []
          },
          "execution_count": 6
        }
      ]
    },
    {
      "cell_type": "code",
      "metadata": {
        "id": "tm7CdBjUmqLM",
        "colab_type": "code",
        "outputId": "1174f51f-a8d6-4d78-f116-8651a0baeefd",
        "colab": {}
      },
      "source": [
        "np.transpose(data)"
      ],
      "execution_count": 0,
      "outputs": [
        {
          "output_type": "execute_result",
          "data": {
            "text/plain": [
              "array([[0, 3, 6],\n",
              "       [1, 4, 7],\n",
              "       [2, 5, 8]])"
            ]
          },
          "metadata": {
            "tags": []
          },
          "execution_count": 222
        }
      ]
    },
    {
      "cell_type": "code",
      "metadata": {
        "id": "37-AbLuJmqLO",
        "colab_type": "code",
        "colab": {}
      },
      "source": [
        "data = np.random.randn(4, 3)"
      ],
      "execution_count": 0,
      "outputs": []
    },
    {
      "cell_type": "code",
      "metadata": {
        "id": "393Q-QmXmqLT",
        "colab_type": "code",
        "outputId": "a00a74d1-b37b-4788-c293-84d61f109dec",
        "colab": {}
      },
      "source": [
        "data.shape"
      ],
      "execution_count": 0,
      "outputs": [
        {
          "output_type": "execute_result",
          "data": {
            "text/plain": [
              "(4, 3)"
            ]
          },
          "metadata": {
            "tags": []
          },
          "execution_count": 19
        }
      ]
    },
    {
      "cell_type": "code",
      "metadata": {
        "id": "MwLQI3vNmqLY",
        "colab_type": "code",
        "outputId": "dabe921d-bc3d-4584-e66e-970120099754",
        "colab": {}
      },
      "source": [
        "data.T.shape"
      ],
      "execution_count": 0,
      "outputs": [
        {
          "output_type": "execute_result",
          "data": {
            "text/plain": [
              "(3, 4)"
            ]
          },
          "metadata": {
            "tags": []
          },
          "execution_count": 20
        }
      ]
    },
    {
      "cell_type": "code",
      "metadata": {
        "id": "5c6oB-WbmqLg",
        "colab_type": "code",
        "outputId": "30691de5-3dcd-4e92-a662-fc0f89414a60",
        "colab": {}
      },
      "source": [
        "np.vstack((data, data, data)).shape"
      ],
      "execution_count": 0,
      "outputs": [
        {
          "output_type": "execute_result",
          "data": {
            "text/plain": [
              "(12, 3)"
            ]
          },
          "metadata": {
            "tags": []
          },
          "execution_count": 21
        }
      ]
    },
    {
      "cell_type": "code",
      "metadata": {
        "id": "b5cT1_JTmqLi",
        "colab_type": "code",
        "colab": {}
      },
      "source": [
        "data = np.arange(5)"
      ],
      "execution_count": 0,
      "outputs": []
    },
    {
      "cell_type": "code",
      "metadata": {
        "id": "3cAznVyhmqLk",
        "colab_type": "code",
        "outputId": "16b623ff-524e-4ad4-e688-a77846246b52",
        "colab": {}
      },
      "source": [
        "data"
      ],
      "execution_count": 0,
      "outputs": [
        {
          "output_type": "execute_result",
          "data": {
            "text/plain": [
              "array([0, 1, 2, 3, 4])"
            ]
          },
          "metadata": {
            "tags": []
          },
          "execution_count": 130
        }
      ]
    },
    {
      "cell_type": "code",
      "metadata": {
        "id": "D-xNGa4omqLm",
        "colab_type": "code",
        "outputId": "d5220504-fa10-4662-ed1e-fed97fa39bc2",
        "colab": {}
      },
      "source": [
        "np.hstack((data, data, data))"
      ],
      "execution_count": 0,
      "outputs": [
        {
          "output_type": "execute_result",
          "data": {
            "text/plain": [
              "array([0, 1, 2, 3, 4, 0, 1, 2, 3, 4, 0, 1, 2, 3, 4])"
            ]
          },
          "metadata": {
            "tags": []
          },
          "execution_count": 131
        }
      ]
    },
    {
      "cell_type": "code",
      "metadata": {
        "id": "D23i4wSUmqLo",
        "colab_type": "code",
        "colab": {}
      },
      "source": [
        "data = data[:, np.newaxis]"
      ],
      "execution_count": 0,
      "outputs": []
    },
    {
      "cell_type": "code",
      "metadata": {
        "id": "zifCgbN0mqLq",
        "colab_type": "code",
        "outputId": "b2cf24e6-384c-48e3-fe4a-6f8f7bdfd4d8",
        "colab": {}
      },
      "source": [
        "np.hstack((data, data, data))"
      ],
      "execution_count": 0,
      "outputs": [
        {
          "output_type": "execute_result",
          "data": {
            "text/plain": [
              "array([[0, 0, 0],\n",
              "       [1, 1, 1],\n",
              "       [2, 2, 2],\n",
              "       [3, 3, 3],\n",
              "       [4, 4, 4]])"
            ]
          },
          "metadata": {
            "tags": []
          },
          "execution_count": 133
        }
      ]
    },
    {
      "cell_type": "markdown",
      "metadata": {
        "id": "GxjhwhtdmqLs",
        "colab_type": "text"
      },
      "source": [
        "### <font color = 'blue'> Exercise #5 </font>\n",
        "- Create a three dimensional array of size 3 x 3 x 4 of random integers named A\n",
        "- Stack 3 copies of the A vertically and name it B.  Can you guess the dimensions of the resulting array?\n",
        "- Now stack 3 copies of the transpose of A horizontally, and name it C.  Can you guess the dimension of C? Is it same as that of B?\n",
        "- Now use the flatten() method of A, call the result A_flat.  What is the shape of A_flat?\n",
        "- Reconstruct A from A_flat using reshape() method"
      ]
    },
    {
      "cell_type": "code",
      "metadata": {
        "id": "40unMve0nOcd",
        "colab_type": "code",
        "outputId": "5a74a174-c9ef-48c6-aec0-294df76b2947",
        "colab": {
          "base_uri": "https://localhost:8080/",
          "height": 34
        }
      },
      "source": [
        "A = np.random.randint(-10,10,size=(3,3,4))\n",
        "B = np.vstack((A,A,A))\n",
        "B.shape"
      ],
      "execution_count": 0,
      "outputs": [
        {
          "output_type": "execute_result",
          "data": {
            "text/plain": [
              "(9, 3, 4)"
            ]
          },
          "metadata": {
            "tags": []
          },
          "execution_count": 7
        }
      ]
    },
    {
      "cell_type": "code",
      "metadata": {
        "id": "sY7I6QqOnRSc",
        "colab_type": "code",
        "outputId": "c08ebdc3-598b-45f7-93a0-07e5587cb56f",
        "colab": {
          "base_uri": "https://localhost:8080/",
          "height": 34
        }
      },
      "source": [
        "C = np.hstack((A,A,A))\n",
        "C.shape"
      ],
      "execution_count": 0,
      "outputs": [
        {
          "output_type": "execute_result",
          "data": {
            "text/plain": [
              "(3, 9, 4)"
            ]
          },
          "metadata": {
            "tags": []
          },
          "execution_count": 8
        }
      ]
    },
    {
      "cell_type": "code",
      "metadata": {
        "id": "AbYPxGV6nURh",
        "colab_type": "code",
        "outputId": "f0a7216a-e47a-4009-8d0f-38ac3c0a42bd",
        "colab": {
          "base_uri": "https://localhost:8080/",
          "height": 34
        }
      },
      "source": [
        "A_flat = A.flatten()\n",
        "A_flat.shape"
      ],
      "execution_count": 0,
      "outputs": [
        {
          "output_type": "execute_result",
          "data": {
            "text/plain": [
              "(36,)"
            ]
          },
          "metadata": {
            "tags": []
          },
          "execution_count": 9
        }
      ]
    },
    {
      "cell_type": "code",
      "metadata": {
        "id": "iiAhk0HtnVX0",
        "colab_type": "code",
        "outputId": "0d4f4fc4-d138-463a-e3b2-427e6af5224b",
        "colab": {
          "base_uri": "https://localhost:8080/",
          "height": 209
        }
      },
      "source": [
        "A = A_flat.reshape(3,3,4)\n",
        "A"
      ],
      "execution_count": 0,
      "outputs": [
        {
          "output_type": "execute_result",
          "data": {
            "text/plain": [
              "array([[[ 2, -8, -9,  0],\n",
              "        [ 6, -3, -1, -5],\n",
              "        [ 6, -6, -6, -9]],\n",
              "\n",
              "       [[ 8,  9, -4,  9],\n",
              "        [ 3,  6, -2,  4],\n",
              "        [ 6,  8, -6,  8]],\n",
              "\n",
              "       [[-2,  2,  1, -8],\n",
              "        [ 5,  6,  8, -3],\n",
              "        [-7,  4,  8,  7]]])"
            ]
          },
          "metadata": {
            "tags": []
          },
          "execution_count": 11
        }
      ]
    },
    {
      "cell_type": "markdown",
      "metadata": {
        "id": "UX-vDdEgmqLw",
        "colab_type": "text"
      },
      "source": [
        "## Vectorized expressions"
      ]
    },
    {
      "cell_type": "markdown",
      "metadata": {
        "id": "vJeHdBeJmqLx",
        "colab_type": "text"
      },
      "source": [
        "### Arithmetic operations"
      ]
    },
    {
      "cell_type": "code",
      "metadata": {
        "id": "CNxN6JN2mqLx",
        "colab_type": "code",
        "colab": {}
      },
      "source": [
        "x = np.array([[1, 2], [3, 4]]) "
      ],
      "execution_count": 0,
      "outputs": []
    },
    {
      "cell_type": "code",
      "metadata": {
        "id": "LSI32d_AmqL1",
        "colab_type": "code",
        "colab": {}
      },
      "source": [
        "y = np.array([[5, 6], [7, 8]])"
      ],
      "execution_count": 0,
      "outputs": []
    },
    {
      "cell_type": "code",
      "metadata": {
        "id": "WcEkH5NjmqL3",
        "colab_type": "code",
        "outputId": "96846510-0957-4299-f822-a2801f680883",
        "colab": {}
      },
      "source": [
        "x + y"
      ],
      "execution_count": 0,
      "outputs": [
        {
          "output_type": "execute_result",
          "data": {
            "text/plain": [
              "array([[ 6,  8],\n",
              "       [10, 12]])"
            ]
          },
          "metadata": {
            "tags": []
          },
          "execution_count": 136
        }
      ]
    },
    {
      "cell_type": "code",
      "metadata": {
        "id": "uLqTRT9CmqL5",
        "colab_type": "code",
        "outputId": "aa853dd2-e77f-44fa-ed6e-f99e1e70017e",
        "colab": {}
      },
      "source": [
        "y - x"
      ],
      "execution_count": 0,
      "outputs": [
        {
          "output_type": "execute_result",
          "data": {
            "text/plain": [
              "array([[4, 4],\n",
              "       [4, 4]])"
            ]
          },
          "metadata": {
            "tags": []
          },
          "execution_count": 137
        }
      ]
    },
    {
      "cell_type": "code",
      "metadata": {
        "id": "00A6e1_tmqL7",
        "colab_type": "code",
        "outputId": "f235e356-6fd6-43f5-aec9-3b4111ce3e6b",
        "colab": {}
      },
      "source": [
        "x * y"
      ],
      "execution_count": 0,
      "outputs": [
        {
          "output_type": "execute_result",
          "data": {
            "text/plain": [
              "array([[ 5, 12],\n",
              "       [21, 32]])"
            ]
          },
          "metadata": {
            "tags": []
          },
          "execution_count": 138
        }
      ]
    },
    {
      "cell_type": "code",
      "metadata": {
        "id": "7D0AxVhOmqMA",
        "colab_type": "code",
        "outputId": "af783e08-d09e-493a-9358-2d357ec4971c",
        "colab": {}
      },
      "source": [
        "y / x"
      ],
      "execution_count": 0,
      "outputs": [
        {
          "output_type": "execute_result",
          "data": {
            "text/plain": [
              "array([[ 5.        ,  3.        ],\n",
              "       [ 2.33333333,  2.        ]])"
            ]
          },
          "metadata": {
            "tags": []
          },
          "execution_count": 139
        }
      ]
    },
    {
      "cell_type": "code",
      "metadata": {
        "id": "1R1uKKTzmqMC",
        "colab_type": "code",
        "outputId": "cd75bbb1-3e70-442a-98cd-2743c6662979",
        "colab": {}
      },
      "source": [
        "x * 2"
      ],
      "execution_count": 0,
      "outputs": [
        {
          "output_type": "execute_result",
          "data": {
            "text/plain": [
              "array([[2, 4],\n",
              "       [6, 8]])"
            ]
          },
          "metadata": {
            "tags": []
          },
          "execution_count": 140
        }
      ]
    },
    {
      "cell_type": "code",
      "metadata": {
        "id": "-ki3Z2IUmqMD",
        "colab_type": "code",
        "outputId": "d5e144e7-49d7-4c9f-acb0-492467763e66",
        "colab": {}
      },
      "source": [
        "2 ** x"
      ],
      "execution_count": 0,
      "outputs": [
        {
          "output_type": "execute_result",
          "data": {
            "text/plain": [
              "array([[ 2,  4],\n",
              "       [ 8, 16]], dtype=int32)"
            ]
          },
          "metadata": {
            "tags": []
          },
          "execution_count": 141
        }
      ]
    },
    {
      "cell_type": "code",
      "metadata": {
        "id": "1YPx_qD3mqMG",
        "colab_type": "code",
        "outputId": "feef4e99-3e02-4da6-c2f6-4a759f08529d",
        "colab": {}
      },
      "source": [
        "y / 2"
      ],
      "execution_count": 0,
      "outputs": [
        {
          "output_type": "execute_result",
          "data": {
            "text/plain": [
              "array([[ 2.5,  3. ],\n",
              "       [ 3.5,  4. ]])"
            ]
          },
          "metadata": {
            "tags": []
          },
          "execution_count": 142
        }
      ]
    },
    {
      "cell_type": "code",
      "metadata": {
        "id": "0NEnVC3YmqML",
        "colab_type": "code",
        "outputId": "22dfcbbf-69c8-4bb9-abb5-5ecfbccbe92a",
        "colab": {}
      },
      "source": [
        "(y / 2).dtype"
      ],
      "execution_count": 0,
      "outputs": [
        {
          "output_type": "execute_result",
          "data": {
            "text/plain": [
              "dtype('float64')"
            ]
          },
          "metadata": {
            "tags": []
          },
          "execution_count": 143
        }
      ]
    },
    {
      "cell_type": "code",
      "metadata": {
        "id": "wSo_TSTTmqMO",
        "colab_type": "code",
        "colab": {}
      },
      "source": [
        "x = np.array([1, 2, 3, 4]).reshape(2,2)"
      ],
      "execution_count": 0,
      "outputs": []
    },
    {
      "cell_type": "code",
      "metadata": {
        "id": "dt9JKYlTmqMQ",
        "colab_type": "code",
        "colab": {}
      },
      "source": [
        "z = np.array([1, 2, 3, 4])"
      ],
      "execution_count": 0,
      "outputs": []
    },
    {
      "cell_type": "code",
      "metadata": {
        "id": "J1j-mgPGmqMR",
        "colab_type": "code",
        "outputId": "ba95ca9b-da2d-46cd-a437-b8185a8097cc",
        "colab": {}
      },
      "source": [
        "x / z"
      ],
      "execution_count": 0,
      "outputs": [
        {
          "output_type": "error",
          "ename": "ValueError",
          "evalue": "operands could not be broadcast together with shapes (2,2) (4,) ",
          "traceback": [
            "\u001b[1;31m---------------------------------------------------------------------------\u001b[0m",
            "\u001b[1;31mValueError\u001b[0m                                Traceback (most recent call last)",
            "\u001b[1;32m<ipython-input-146-b88ced08eb6a>\u001b[0m in \u001b[0;36m<module>\u001b[1;34m()\u001b[0m\n\u001b[1;32m----> 1\u001b[1;33m \u001b[0mx\u001b[0m \u001b[1;33m/\u001b[0m \u001b[0mz\u001b[0m\u001b[1;33m\u001b[0m\u001b[0m\n\u001b[0m",
            "\u001b[1;31mValueError\u001b[0m: operands could not be broadcast together with shapes (2,2) (4,) "
          ]
        }
      ]
    },
    {
      "cell_type": "code",
      "metadata": {
        "id": "r-Ahh38LmqMX",
        "colab_type": "code",
        "colab": {}
      },
      "source": [
        "z = np.array([[2, 4]])"
      ],
      "execution_count": 0,
      "outputs": []
    },
    {
      "cell_type": "code",
      "metadata": {
        "id": "B79Yb4XXmqMZ",
        "colab_type": "code",
        "outputId": "45b567d0-fa6b-4095-d0c1-275ab0c28117",
        "colab": {}
      },
      "source": [
        "z"
      ],
      "execution_count": 0,
      "outputs": [
        {
          "output_type": "execute_result",
          "data": {
            "text/plain": [
              "array([[2, 4]])"
            ]
          },
          "metadata": {
            "tags": []
          },
          "execution_count": 148
        }
      ]
    },
    {
      "cell_type": "code",
      "metadata": {
        "id": "Sb3FasW2mqMb",
        "colab_type": "code",
        "outputId": "3bbacc51-5636-4902-a3e5-0b20e462c5e1",
        "colab": {}
      },
      "source": [
        "z.shape"
      ],
      "execution_count": 0,
      "outputs": [
        {
          "output_type": "execute_result",
          "data": {
            "text/plain": [
              "(1, 2)"
            ]
          },
          "metadata": {
            "tags": []
          },
          "execution_count": 149
        }
      ]
    },
    {
      "cell_type": "code",
      "metadata": {
        "id": "JImQ-FbWmqMc",
        "colab_type": "code",
        "outputId": "73c8dc22-8f8e-4dbe-d045-f7d281f31efc",
        "colab": {}
      },
      "source": [
        "x / z"
      ],
      "execution_count": 0,
      "outputs": [
        {
          "output_type": "execute_result",
          "data": {
            "text/plain": [
              "array([[ 0.5,  0.5],\n",
              "       [ 1.5,  1. ]])"
            ]
          },
          "metadata": {
            "tags": []
          },
          "execution_count": 150
        }
      ]
    },
    {
      "cell_type": "code",
      "metadata": {
        "id": "b8ZAf7bymqMe",
        "colab_type": "code",
        "colab": {}
      },
      "source": [
        "zz = np.concatenate([z, z], axis=0)"
      ],
      "execution_count": 0,
      "outputs": []
    },
    {
      "cell_type": "code",
      "metadata": {
        "id": "GvEQCbsDmqMg",
        "colab_type": "code",
        "outputId": "8361f010-463d-42eb-da32-109abb13e49f",
        "colab": {}
      },
      "source": [
        "zz"
      ],
      "execution_count": 0,
      "outputs": [
        {
          "output_type": "execute_result",
          "data": {
            "text/plain": [
              "array([[2, 4],\n",
              "       [2, 4]])"
            ]
          },
          "metadata": {
            "tags": []
          },
          "execution_count": 152
        }
      ]
    },
    {
      "cell_type": "code",
      "metadata": {
        "id": "wlP3gl8imqMi",
        "colab_type": "code",
        "outputId": "ab3bc60d-58e9-4825-848b-b97980e9651f",
        "colab": {}
      },
      "source": [
        "x / zz"
      ],
      "execution_count": 0,
      "outputs": [
        {
          "output_type": "execute_result",
          "data": {
            "text/plain": [
              "array([[ 0.5,  0.5],\n",
              "       [ 1.5,  1. ]])"
            ]
          },
          "metadata": {
            "tags": []
          },
          "execution_count": 153
        }
      ]
    },
    {
      "cell_type": "code",
      "metadata": {
        "id": "IRkHywOGmqMj",
        "colab_type": "code",
        "colab": {}
      },
      "source": [
        "z = np.array([[2], [4]])"
      ],
      "execution_count": 0,
      "outputs": []
    },
    {
      "cell_type": "code",
      "metadata": {
        "id": "PmvCs2vamqMl",
        "colab_type": "code",
        "outputId": "5f255aa8-7b46-4768-9516-5e8f2353e5a1",
        "colab": {}
      },
      "source": [
        "z.shape"
      ],
      "execution_count": 0,
      "outputs": [
        {
          "output_type": "execute_result",
          "data": {
            "text/plain": [
              "(2, 1)"
            ]
          },
          "metadata": {
            "tags": []
          },
          "execution_count": 155
        }
      ]
    },
    {
      "cell_type": "code",
      "metadata": {
        "id": "ob2lGAaGmqMn",
        "colab_type": "code",
        "outputId": "25f264ac-228f-4107-c7cf-e1481114f6fc",
        "colab": {}
      },
      "source": [
        "x / z"
      ],
      "execution_count": 0,
      "outputs": [
        {
          "output_type": "execute_result",
          "data": {
            "text/plain": [
              "array([[ 0.5 ,  1.  ],\n",
              "       [ 0.75,  1.  ]])"
            ]
          },
          "metadata": {
            "tags": []
          },
          "execution_count": 156
        }
      ]
    },
    {
      "cell_type": "code",
      "metadata": {
        "id": "55NO7orrmqMp",
        "colab_type": "code",
        "colab": {}
      },
      "source": [
        "zz = np.concatenate([z, z], axis=1)"
      ],
      "execution_count": 0,
      "outputs": []
    },
    {
      "cell_type": "code",
      "metadata": {
        "id": "opXbJPuDmqMt",
        "colab_type": "code",
        "outputId": "85294a7c-a93b-448f-99a1-abaa062a3a45",
        "colab": {}
      },
      "source": [
        "zz"
      ],
      "execution_count": 0,
      "outputs": [
        {
          "output_type": "execute_result",
          "data": {
            "text/plain": [
              "array([[2, 2],\n",
              "       [4, 4]])"
            ]
          },
          "metadata": {
            "tags": []
          },
          "execution_count": 158
        }
      ]
    },
    {
      "cell_type": "code",
      "metadata": {
        "id": "GNsBDds0mqMx",
        "colab_type": "code",
        "outputId": "faf3baea-bac6-4a53-8af9-73658b052bbc",
        "colab": {}
      },
      "source": [
        "x / zz"
      ],
      "execution_count": 0,
      "outputs": [
        {
          "output_type": "execute_result",
          "data": {
            "text/plain": [
              "array([[ 0.5 ,  1.  ],\n",
              "       [ 0.75,  1.  ]])"
            ]
          },
          "metadata": {
            "tags": []
          },
          "execution_count": 159
        }
      ]
    },
    {
      "cell_type": "code",
      "metadata": {
        "id": "YcDdaGdQmqMz",
        "colab_type": "code",
        "outputId": "7512abc3-bb98-4189-e873-29f14909519b",
        "colab": {}
      },
      "source": [
        "x = np.array([[1, 3], [2, 4]])\n",
        "x = x + y\n",
        "x"
      ],
      "execution_count": 0,
      "outputs": [
        {
          "output_type": "execute_result",
          "data": {
            "text/plain": [
              "array([[ 6,  9],\n",
              "       [ 9, 12]])"
            ]
          },
          "metadata": {
            "tags": []
          },
          "execution_count": 160
        }
      ]
    },
    {
      "cell_type": "code",
      "metadata": {
        "id": "zd_SehkNmqM1",
        "colab_type": "code",
        "outputId": "98279a46-d103-4239-c387-3568502fe45e",
        "colab": {}
      },
      "source": [
        "x = np.array([[1, 3], [2, 4]])\n",
        "x += y\n",
        "x"
      ],
      "execution_count": 0,
      "outputs": [
        {
          "output_type": "execute_result",
          "data": {
            "text/plain": [
              "array([[ 6,  9],\n",
              "       [ 9, 12]])"
            ]
          },
          "metadata": {
            "tags": []
          },
          "execution_count": 161
        }
      ]
    },
    {
      "cell_type": "markdown",
      "metadata": {
        "id": "Yb3nj0k3mqM2",
        "colab_type": "text"
      },
      "source": [
        "### Elementwise functions"
      ]
    },
    {
      "cell_type": "code",
      "metadata": {
        "id": "VsLz7IGwmqM3",
        "colab_type": "code",
        "colab": {}
      },
      "source": [
        "x = np.linspace(-1, 1, 11)"
      ],
      "execution_count": 0,
      "outputs": []
    },
    {
      "cell_type": "code",
      "metadata": {
        "id": "6rj7i_gmmqM5",
        "colab_type": "code",
        "outputId": "803e1fcd-9eec-4462-c2a1-15f54915d389",
        "colab": {}
      },
      "source": [
        "x"
      ],
      "execution_count": 0,
      "outputs": [
        {
          "output_type": "execute_result",
          "data": {
            "text/plain": [
              "array([-1. , -0.8, -0.6, -0.4, -0.2,  0. ,  0.2,  0.4,  0.6,  0.8,  1. ])"
            ]
          },
          "metadata": {
            "tags": []
          },
          "execution_count": 163
        }
      ]
    },
    {
      "cell_type": "code",
      "metadata": {
        "id": "w-WLj8PmmqM7",
        "colab_type": "code",
        "colab": {}
      },
      "source": [
        "y = np.sin(np.pi * x)"
      ],
      "execution_count": 0,
      "outputs": []
    },
    {
      "cell_type": "code",
      "metadata": {
        "id": "ht9Fxz7qmqM9",
        "colab_type": "code",
        "outputId": "818f01f7-a1ed-49fd-df07-58c589b42894",
        "colab": {}
      },
      "source": [
        "np.round(y, decimals=4)"
      ],
      "execution_count": 0,
      "outputs": [
        {
          "output_type": "execute_result",
          "data": {
            "text/plain": [
              "array([-0.    , -0.5878, -0.9511, -0.9511, -0.5878,  0.    ,  0.5878,\n",
              "        0.9511,  0.9511,  0.5878,  0.    ])"
            ]
          },
          "metadata": {
            "tags": []
          },
          "execution_count": 165
        }
      ]
    },
    {
      "cell_type": "code",
      "metadata": {
        "id": "pnRF-ADCmqM_",
        "colab_type": "code",
        "outputId": "bed51a3f-38c4-4710-8f3f-364e9a695b37",
        "colab": {}
      },
      "source": [
        "np.add(np.sin(x) ** 2, np.cos(x) ** 2)"
      ],
      "execution_count": 0,
      "outputs": [
        {
          "output_type": "execute_result",
          "data": {
            "text/plain": [
              "array([ 1.,  1.,  1.,  1.,  1.,  1.,  1.,  1.,  1.,  1.,  1.])"
            ]
          },
          "metadata": {
            "tags": []
          },
          "execution_count": 166
        }
      ]
    },
    {
      "cell_type": "code",
      "metadata": {
        "id": "3AdOXZZPmqNB",
        "colab_type": "code",
        "outputId": "3beaf2e4-ec66-4027-ebba-967af9258fc9",
        "colab": {}
      },
      "source": [
        "np.sin(x) ** 2 + np.cos(x) ** 2"
      ],
      "execution_count": 0,
      "outputs": [
        {
          "output_type": "execute_result",
          "data": {
            "text/plain": [
              "array([ 1.,  1.,  1.,  1.,  1.,  1.,  1.,  1.,  1.,  1.,  1.])"
            ]
          },
          "metadata": {
            "tags": []
          },
          "execution_count": 167
        }
      ]
    },
    {
      "cell_type": "code",
      "metadata": {
        "id": "rAA7hfgvmqNC",
        "colab_type": "code",
        "colab": {}
      },
      "source": [
        "def heaviside(x):\n",
        "    return 1 if x > 0 else 0"
      ],
      "execution_count": 0,
      "outputs": []
    },
    {
      "cell_type": "code",
      "metadata": {
        "id": "MttWKFWDmqNE",
        "colab_type": "code",
        "outputId": "0418b8ff-4b9c-48c3-b18e-a80e7e437e02",
        "colab": {}
      },
      "source": [
        "heaviside(-1)"
      ],
      "execution_count": 0,
      "outputs": [
        {
          "output_type": "execute_result",
          "data": {
            "text/plain": [
              "0"
            ]
          },
          "metadata": {
            "tags": []
          },
          "execution_count": 169
        }
      ]
    },
    {
      "cell_type": "code",
      "metadata": {
        "id": "R1Ud6-zumqNF",
        "colab_type": "code",
        "outputId": "ce58ea1f-2b80-4637-8fff-bde5aa7f0963",
        "colab": {}
      },
      "source": [
        "heaviside(1.5)"
      ],
      "execution_count": 0,
      "outputs": [
        {
          "output_type": "execute_result",
          "data": {
            "text/plain": [
              "1"
            ]
          },
          "metadata": {
            "tags": []
          },
          "execution_count": 170
        }
      ]
    },
    {
      "cell_type": "code",
      "metadata": {
        "id": "5wuv3WjumqNH",
        "colab_type": "code",
        "colab": {}
      },
      "source": [
        "x = np.linspace(-5, 5, 11)"
      ],
      "execution_count": 0,
      "outputs": []
    },
    {
      "cell_type": "code",
      "metadata": {
        "id": "eLxqfj7JmqNJ",
        "colab_type": "code",
        "outputId": "34cb2257-ad64-4eec-f3f7-03b9f422e80b",
        "colab": {}
      },
      "source": [
        "heaviside(x)"
      ],
      "execution_count": 0,
      "outputs": [
        {
          "output_type": "error",
          "ename": "ValueError",
          "evalue": "The truth value of an array with more than one element is ambiguous. Use a.any() or a.all()",
          "traceback": [
            "\u001b[1;31m---------------------------------------------------------------------------\u001b[0m",
            "\u001b[1;31mValueError\u001b[0m                                Traceback (most recent call last)",
            "\u001b[1;32m<ipython-input-172-fe9fb94bcf99>\u001b[0m in \u001b[0;36m<module>\u001b[1;34m()\u001b[0m\n\u001b[1;32m----> 1\u001b[1;33m \u001b[0mheaviside\u001b[0m\u001b[1;33m(\u001b[0m\u001b[0mx\u001b[0m\u001b[1;33m)\u001b[0m\u001b[1;33m\u001b[0m\u001b[0m\n\u001b[0m",
            "\u001b[1;32m<ipython-input-168-01b8e2f570bc>\u001b[0m in \u001b[0;36mheaviside\u001b[1;34m(x)\u001b[0m\n\u001b[0;32m      1\u001b[0m \u001b[1;32mdef\u001b[0m \u001b[0mheaviside\u001b[0m\u001b[1;33m(\u001b[0m\u001b[0mx\u001b[0m\u001b[1;33m)\u001b[0m\u001b[1;33m:\u001b[0m\u001b[1;33m\u001b[0m\u001b[0m\n\u001b[1;32m----> 2\u001b[1;33m     \u001b[1;32mreturn\u001b[0m \u001b[1;36m1\u001b[0m \u001b[1;32mif\u001b[0m \u001b[0mx\u001b[0m \u001b[1;33m>\u001b[0m \u001b[1;36m0\u001b[0m \u001b[1;32melse\u001b[0m \u001b[1;36m0\u001b[0m\u001b[1;33m\u001b[0m\u001b[0m\n\u001b[0m",
            "\u001b[1;31mValueError\u001b[0m: The truth value of an array with more than one element is ambiguous. Use a.any() or a.all()"
          ]
        }
      ]
    },
    {
      "cell_type": "code",
      "metadata": {
        "id": "pUOWxn9TmqNK",
        "colab_type": "code",
        "colab": {}
      },
      "source": [
        "heaviside = np.vectorize(heaviside)"
      ],
      "execution_count": 0,
      "outputs": []
    },
    {
      "cell_type": "code",
      "metadata": {
        "id": "RYPJ2qfdmqNM",
        "colab_type": "code",
        "outputId": "94bfa1b2-b8b2-42d8-c25e-0c8c844172a0",
        "colab": {}
      },
      "source": [
        "heaviside(x)"
      ],
      "execution_count": 0,
      "outputs": [
        {
          "output_type": "execute_result",
          "data": {
            "text/plain": [
              "array([0, 0, 0, 0, 0, 0, 1, 1, 1, 1, 1])"
            ]
          },
          "metadata": {
            "tags": []
          },
          "execution_count": 174
        }
      ]
    },
    {
      "cell_type": "code",
      "metadata": {
        "id": "9kR14l7ZmqNP",
        "colab_type": "code",
        "colab": {}
      },
      "source": [
        "def heaviside(x):\n",
        "    return 1.0 * (x > 0)"
      ],
      "execution_count": 0,
      "outputs": []
    },
    {
      "cell_type": "markdown",
      "metadata": {
        "id": "Abnf1_FpmqNQ",
        "colab_type": "text"
      },
      "source": [
        "### <font color = 'blue'> Exercise #6 </font>  \n",
        "\n",
        "1.  Create a function \"sigmoid\" that takes one variable $x$ as input and returns $\\frac{1}{1 + e^{-x}}$ as output\n",
        "2.  Create a 2-dimensional array A of random numbers of size 3x4\n",
        "3.  Let S = sigmoid(A).  Print S\n",
        "\n",
        "**Note this is an example of broadcasting: applying an operation to every element of an object, where the operation was only meant between elements**"
      ]
    },
    {
      "cell_type": "code",
      "metadata": {
        "id": "Ecqw8hxen4kj",
        "colab_type": "code",
        "colab": {}
      },
      "source": [
        "import math\n",
        "def sigmoid(x):\n",
        "  return 1/(1+math.exp(-x))"
      ],
      "execution_count": 0,
      "outputs": []
    },
    {
      "cell_type": "code",
      "metadata": {
        "id": "c-LBoLjtoDbb",
        "colab_type": "code",
        "outputId": "21678578-04e1-4473-83b1-57f542c7f943",
        "colab": {
          "base_uri": "https://localhost:8080/",
          "height": 69
        }
      },
      "source": [
        "A = np.random.randint(-10,10,size=(3,4))\n",
        "A"
      ],
      "execution_count": 0,
      "outputs": [
        {
          "output_type": "execute_result",
          "data": {
            "text/plain": [
              "array([[-9,  7, -1, -5],\n",
              "       [-4, -9,  9,  3],\n",
              "       [-1,  0, -1,  1]])"
            ]
          },
          "metadata": {
            "tags": []
          },
          "execution_count": 24
        }
      ]
    },
    {
      "cell_type": "code",
      "metadata": {
        "id": "QTAvJLgmoYNH",
        "colab_type": "code",
        "outputId": "c174c50b-9bd0-4dd1-f76d-d43b93e98b78",
        "colab": {
          "base_uri": "https://localhost:8080/",
          "height": 255
        }
      },
      "source": [
        "S = sigmoid(A)"
      ],
      "execution_count": 0,
      "outputs": [
        {
          "output_type": "error",
          "ename": "TypeError",
          "evalue": "ignored",
          "traceback": [
            "\u001b[0;31m---------------------------------------------------------------------------\u001b[0m",
            "\u001b[0;31mTypeError\u001b[0m                                 Traceback (most recent call last)",
            "\u001b[0;32m<ipython-input-35-f82472572c9f>\u001b[0m in \u001b[0;36m<module>\u001b[0;34m()\u001b[0m\n\u001b[0;32m----> 1\u001b[0;31m \u001b[0mS\u001b[0m \u001b[0;34m=\u001b[0m \u001b[0msigmoid\u001b[0m\u001b[0;34m(\u001b[0m\u001b[0mA\u001b[0m\u001b[0;34m)\u001b[0m\u001b[0;34m\u001b[0m\u001b[0;34m\u001b[0m\u001b[0m\n\u001b[0m",
            "\u001b[0;32m<ipython-input-23-df947b684716>\u001b[0m in \u001b[0;36msigmoid\u001b[0;34m(x)\u001b[0m\n\u001b[1;32m      1\u001b[0m \u001b[0;32mimport\u001b[0m \u001b[0mmath\u001b[0m\u001b[0;34m\u001b[0m\u001b[0;34m\u001b[0m\u001b[0m\n\u001b[1;32m      2\u001b[0m \u001b[0;32mdef\u001b[0m \u001b[0msigmoid\u001b[0m\u001b[0;34m(\u001b[0m\u001b[0mx\u001b[0m\u001b[0;34m)\u001b[0m\u001b[0;34m:\u001b[0m\u001b[0;34m\u001b[0m\u001b[0;34m\u001b[0m\u001b[0m\n\u001b[0;32m----> 3\u001b[0;31m   \u001b[0;32mreturn\u001b[0m \u001b[0;36m1\u001b[0m\u001b[0;34m/\u001b[0m\u001b[0;34m(\u001b[0m\u001b[0;36m1\u001b[0m\u001b[0;34m+\u001b[0m\u001b[0mmath\u001b[0m\u001b[0;34m.\u001b[0m\u001b[0mexp\u001b[0m\u001b[0;34m(\u001b[0m\u001b[0;34m-\u001b[0m\u001b[0mx\u001b[0m\u001b[0;34m)\u001b[0m\u001b[0;34m)\u001b[0m\u001b[0;34m\u001b[0m\u001b[0;34m\u001b[0m\u001b[0m\n\u001b[0m",
            "\u001b[0;31mTypeError\u001b[0m: only size-1 arrays can be converted to Python scalars"
          ]
        }
      ]
    },
    {
      "cell_type": "markdown",
      "metadata": {
        "id": "98660MXamqNR",
        "colab_type": "text"
      },
      "source": [
        "### Aggregate functions"
      ]
    },
    {
      "cell_type": "code",
      "metadata": {
        "id": "CNGg9p1ymqNR",
        "colab_type": "code",
        "colab": {}
      },
      "source": [
        "data = np.random.normal(size=(15,15))"
      ],
      "execution_count": 0,
      "outputs": []
    },
    {
      "cell_type": "code",
      "metadata": {
        "id": "keyzDh8_mqNW",
        "colab_type": "code",
        "outputId": "b3b3b386-64f9-4a6a-9c6e-f02870b3edfb",
        "colab": {}
      },
      "source": [
        "np.mean(data)"
      ],
      "execution_count": 0,
      "outputs": [
        {
          "output_type": "execute_result",
          "data": {
            "text/plain": [
              "-0.074403636812459123"
            ]
          },
          "metadata": {
            "tags": []
          },
          "execution_count": 177
        }
      ]
    },
    {
      "cell_type": "code",
      "metadata": {
        "id": "QYJWh5_zmqNY",
        "colab_type": "code",
        "outputId": "b31e70db-3ff0-4479-8f43-bad80f581fb7",
        "colab": {}
      },
      "source": [
        "data.mean()"
      ],
      "execution_count": 0,
      "outputs": [
        {
          "output_type": "execute_result",
          "data": {
            "text/plain": [
              "-0.074403636812459123"
            ]
          },
          "metadata": {
            "tags": []
          },
          "execution_count": 178
        }
      ]
    },
    {
      "cell_type": "code",
      "metadata": {
        "id": "JacSL8J1mqNZ",
        "colab_type": "code",
        "colab": {}
      },
      "source": [
        "data = np.random.normal(size=(5, 10, 15))"
      ],
      "execution_count": 0,
      "outputs": []
    },
    {
      "cell_type": "code",
      "metadata": {
        "id": "L5ksVRjemqNb",
        "colab_type": "code",
        "outputId": "37756fbd-6af4-450c-a4ef-3f03a75d8154",
        "colab": {}
      },
      "source": [
        "data.sum(axis=0).shape"
      ],
      "execution_count": 0,
      "outputs": [
        {
          "output_type": "execute_result",
          "data": {
            "text/plain": [
              "(10, 15)"
            ]
          },
          "metadata": {
            "tags": []
          },
          "execution_count": 180
        }
      ]
    },
    {
      "cell_type": "code",
      "metadata": {
        "id": "GDEZS66smqNc",
        "colab_type": "code",
        "outputId": "3600225f-bc43-40fa-d28a-bc1f8ff2c0a5",
        "colab": {}
      },
      "source": [
        "data.sum(axis=(0, 2)).shape"
      ],
      "execution_count": 0,
      "outputs": [
        {
          "output_type": "execute_result",
          "data": {
            "text/plain": [
              "(10,)"
            ]
          },
          "metadata": {
            "tags": []
          },
          "execution_count": 181
        }
      ]
    },
    {
      "cell_type": "code",
      "metadata": {
        "id": "5ZYkrf3rmqNe",
        "colab_type": "code",
        "outputId": "fb4fa02f-7a56-4bcd-be5d-9fdc7134ae05",
        "colab": {}
      },
      "source": [
        "data.sum()"
      ],
      "execution_count": 0,
      "outputs": [
        {
          "output_type": "execute_result",
          "data": {
            "text/plain": [
              "11.003615133940048"
            ]
          },
          "metadata": {
            "tags": []
          },
          "execution_count": 182
        }
      ]
    },
    {
      "cell_type": "code",
      "metadata": {
        "id": "z6oDYuMvmqNh",
        "colab_type": "code",
        "colab": {}
      },
      "source": [
        "data = np.arange(1,10).reshape(3,3)"
      ],
      "execution_count": 0,
      "outputs": []
    },
    {
      "cell_type": "code",
      "metadata": {
        "id": "DaMQhQn_mqNk",
        "colab_type": "code",
        "outputId": "e3612d2e-aa12-48fd-a060-3dc531087171",
        "colab": {}
      },
      "source": [
        "data"
      ],
      "execution_count": 0,
      "outputs": [
        {
          "output_type": "execute_result",
          "data": {
            "text/plain": [
              "array([[1, 2, 3],\n",
              "       [4, 5, 6],\n",
              "       [7, 8, 9]])"
            ]
          },
          "metadata": {
            "tags": []
          },
          "execution_count": 184
        }
      ]
    },
    {
      "cell_type": "code",
      "metadata": {
        "id": "alV_7ypBmqNn",
        "colab_type": "code",
        "outputId": "706527a3-230e-4aed-c890-01a67378d51f",
        "colab": {}
      },
      "source": [
        "data.sum()"
      ],
      "execution_count": 0,
      "outputs": [
        {
          "output_type": "execute_result",
          "data": {
            "text/plain": [
              "45"
            ]
          },
          "metadata": {
            "tags": []
          },
          "execution_count": 185
        }
      ]
    },
    {
      "cell_type": "code",
      "metadata": {
        "id": "HPqu8cZgmqNp",
        "colab_type": "code",
        "outputId": "12e30a69-f982-487c-d09a-8e2147ac5e3d",
        "colab": {}
      },
      "source": [
        "data.sum(axis=0)"
      ],
      "execution_count": 0,
      "outputs": [
        {
          "output_type": "execute_result",
          "data": {
            "text/plain": [
              "array([12, 15, 18])"
            ]
          },
          "metadata": {
            "tags": []
          },
          "execution_count": 186
        }
      ]
    },
    {
      "cell_type": "code",
      "metadata": {
        "id": "ZcR1Tn0lmqNr",
        "colab_type": "code",
        "outputId": "0838958a-169f-451e-e94c-a8a91b505bc8",
        "colab": {}
      },
      "source": [
        "data.sum(axis=1)"
      ],
      "execution_count": 0,
      "outputs": [
        {
          "output_type": "execute_result",
          "data": {
            "text/plain": [
              "array([ 6, 15, 24])"
            ]
          },
          "metadata": {
            "tags": []
          },
          "execution_count": 187
        }
      ]
    },
    {
      "cell_type": "markdown",
      "metadata": {
        "id": "0sLK7dJAmqNu",
        "colab_type": "text"
      },
      "source": [
        "### Boolean arrays"
      ]
    },
    {
      "cell_type": "code",
      "metadata": {
        "id": "lM_Cy8cmmqNv",
        "colab_type": "code",
        "colab": {}
      },
      "source": [
        "a = np.array([1, 2, 3, 4])"
      ],
      "execution_count": 0,
      "outputs": []
    },
    {
      "cell_type": "code",
      "metadata": {
        "id": "ARY8jSyJmqNw",
        "colab_type": "code",
        "colab": {}
      },
      "source": [
        "b = np.array([4, 3, 2, 1])"
      ],
      "execution_count": 0,
      "outputs": []
    },
    {
      "cell_type": "code",
      "metadata": {
        "id": "ToKpinodmqNy",
        "colab_type": "code",
        "outputId": "6a4def11-fc95-4682-be66-d3f782048802",
        "colab": {}
      },
      "source": [
        "a < b"
      ],
      "execution_count": 0,
      "outputs": [
        {
          "output_type": "execute_result",
          "data": {
            "text/plain": [
              "array([ True,  True, False, False], dtype=bool)"
            ]
          },
          "metadata": {
            "tags": []
          },
          "execution_count": 190
        }
      ]
    },
    {
      "cell_type": "code",
      "metadata": {
        "id": "2QteliImmqNz",
        "colab_type": "code",
        "outputId": "95e120bb-c62c-47f4-cbfb-0df8c2bccdb4",
        "colab": {}
      },
      "source": [
        "np.all(a < b)"
      ],
      "execution_count": 0,
      "outputs": [
        {
          "output_type": "execute_result",
          "data": {
            "text/plain": [
              "False"
            ]
          },
          "metadata": {
            "tags": []
          },
          "execution_count": 191
        }
      ]
    },
    {
      "cell_type": "code",
      "metadata": {
        "id": "TcuEFiLhmqN1",
        "colab_type": "code",
        "outputId": "0d3ff860-fd24-41f2-ac61-f38c8b10d142",
        "colab": {}
      },
      "source": [
        "np.any(a < b)"
      ],
      "execution_count": 0,
      "outputs": [
        {
          "output_type": "execute_result",
          "data": {
            "text/plain": [
              "True"
            ]
          },
          "metadata": {
            "tags": []
          },
          "execution_count": 192
        }
      ]
    },
    {
      "cell_type": "code",
      "metadata": {
        "id": "nlaAs_fYmqN3",
        "colab_type": "code",
        "colab": {}
      },
      "source": [
        "x = np.array([-2, -1, 0, 1, 2])"
      ],
      "execution_count": 0,
      "outputs": []
    },
    {
      "cell_type": "code",
      "metadata": {
        "id": "C_DeKrrGmqN9",
        "colab_type": "code",
        "outputId": "51d849f0-7488-4336-f2a3-bdabdd911f38",
        "colab": {}
      },
      "source": [
        "x > 0"
      ],
      "execution_count": 0,
      "outputs": [
        {
          "output_type": "execute_result",
          "data": {
            "text/plain": [
              "array([False, False, False,  True,  True], dtype=bool)"
            ]
          },
          "metadata": {
            "tags": []
          },
          "execution_count": 195
        }
      ]
    },
    {
      "cell_type": "code",
      "metadata": {
        "id": "R1eCINpvmqN_",
        "colab_type": "code",
        "outputId": "4c7f44b2-0f6a-4ffe-ac8b-f9a26dd9cac2",
        "colab": {}
      },
      "source": [
        "1 * (x > 0)"
      ],
      "execution_count": 0,
      "outputs": [
        {
          "output_type": "execute_result",
          "data": {
            "text/plain": [
              "array([0, 0, 0, 1, 1])"
            ]
          },
          "metadata": {
            "tags": []
          },
          "execution_count": 196
        }
      ]
    },
    {
      "cell_type": "code",
      "metadata": {
        "id": "Qu3MDwTemqOB",
        "colab_type": "code",
        "outputId": "e86eea1c-14d0-4549-df2e-74b1c4addae4",
        "colab": {}
      },
      "source": [
        "x * (x > 0)"
      ],
      "execution_count": 0,
      "outputs": [
        {
          "output_type": "execute_result",
          "data": {
            "text/plain": [
              "array([0, 0, 0, 1, 2])"
            ]
          },
          "metadata": {
            "tags": []
          },
          "execution_count": 197
        }
      ]
    },
    {
      "cell_type": "markdown",
      "metadata": {
        "id": "seLfs1_rmqOC",
        "colab_type": "text"
      },
      "source": [
        "# Set operations"
      ]
    },
    {
      "cell_type": "code",
      "metadata": {
        "id": "dRovaKk5mqOD",
        "colab_type": "code",
        "colab": {}
      },
      "source": [
        "a = np.unique([1,2,3,3])"
      ],
      "execution_count": 0,
      "outputs": []
    },
    {
      "cell_type": "code",
      "metadata": {
        "id": "WKAvVLA7mqOE",
        "colab_type": "code",
        "colab": {}
      },
      "source": [
        "b = np.unique([2,3,4,4,5,6,5])"
      ],
      "execution_count": 0,
      "outputs": []
    },
    {
      "cell_type": "code",
      "metadata": {
        "id": "3yqea78CmqOG",
        "colab_type": "code",
        "outputId": "47829fe5-3a55-4b6a-fc54-de1b0673dffa",
        "colab": {}
      },
      "source": [
        "np.in1d(a, b)"
      ],
      "execution_count": 0,
      "outputs": [
        {
          "output_type": "execute_result",
          "data": {
            "text/plain": [
              "array([False,  True,  True], dtype=bool)"
            ]
          },
          "metadata": {
            "tags": []
          },
          "execution_count": 212
        }
      ]
    },
    {
      "cell_type": "code",
      "metadata": {
        "id": "VYztVpqXmqOI",
        "colab_type": "code",
        "outputId": "c90e7328-8a44-4f7f-b112-afb6bbd7c6d8",
        "colab": {}
      },
      "source": [
        "1 in a"
      ],
      "execution_count": 0,
      "outputs": [
        {
          "output_type": "execute_result",
          "data": {
            "text/plain": [
              "True"
            ]
          },
          "metadata": {
            "tags": []
          },
          "execution_count": 213
        }
      ]
    },
    {
      "cell_type": "code",
      "metadata": {
        "id": "DSJWn4IRmqOJ",
        "colab_type": "code",
        "outputId": "c3736e01-0b68-48dd-ba9a-16bf5991ea27",
        "colab": {}
      },
      "source": [
        "1 in b"
      ],
      "execution_count": 0,
      "outputs": [
        {
          "output_type": "execute_result",
          "data": {
            "text/plain": [
              "False"
            ]
          },
          "metadata": {
            "tags": []
          },
          "execution_count": 214
        }
      ]
    },
    {
      "cell_type": "code",
      "metadata": {
        "id": "OZrz_ujWmqOM",
        "colab_type": "code",
        "outputId": "eac63807-c4f8-432b-83cf-5153f4aff241",
        "colab": {}
      },
      "source": [
        "np.all(np.in1d(a, b))"
      ],
      "execution_count": 0,
      "outputs": [
        {
          "output_type": "execute_result",
          "data": {
            "text/plain": [
              "False"
            ]
          },
          "metadata": {
            "tags": []
          },
          "execution_count": 215
        }
      ]
    },
    {
      "cell_type": "code",
      "metadata": {
        "id": "ouTNe4eamqON",
        "colab_type": "code",
        "outputId": "201b79a2-60c2-4180-ae4b-5823848e42a5",
        "colab": {}
      },
      "source": [
        "np.union1d(a, b)"
      ],
      "execution_count": 0,
      "outputs": [
        {
          "output_type": "execute_result",
          "data": {
            "text/plain": [
              "array([1, 2, 3, 4, 5, 6])"
            ]
          },
          "metadata": {
            "tags": []
          },
          "execution_count": 216
        }
      ]
    },
    {
      "cell_type": "code",
      "metadata": {
        "id": "YdRLRFJwmqOQ",
        "colab_type": "code",
        "outputId": "e7a272e4-4fa6-44c7-9864-1415829584b6",
        "colab": {}
      },
      "source": [
        "np.intersect1d(a, b)"
      ],
      "execution_count": 0,
      "outputs": [
        {
          "output_type": "execute_result",
          "data": {
            "text/plain": [
              "array([2, 3])"
            ]
          },
          "metadata": {
            "tags": []
          },
          "execution_count": 217
        }
      ]
    },
    {
      "cell_type": "code",
      "metadata": {
        "id": "tSPO7F_ZmqOS",
        "colab_type": "code",
        "outputId": "6f89d2c4-af8f-4447-84bc-609b7b0761a6",
        "colab": {}
      },
      "source": [
        "np.setdiff1d(a, b)"
      ],
      "execution_count": 0,
      "outputs": [
        {
          "output_type": "execute_result",
          "data": {
            "text/plain": [
              "array([1])"
            ]
          },
          "metadata": {
            "tags": []
          },
          "execution_count": 218
        }
      ]
    },
    {
      "cell_type": "code",
      "metadata": {
        "id": "uScbwHoImqOW",
        "colab_type": "code",
        "outputId": "1f85c5fd-52c8-4ad3-8e5f-61b7f76e0730",
        "colab": {}
      },
      "source": [
        "np.setdiff1d(b, a)"
      ],
      "execution_count": 0,
      "outputs": [
        {
          "output_type": "execute_result",
          "data": {
            "text/plain": [
              "array([4, 5, 6])"
            ]
          },
          "metadata": {
            "tags": []
          },
          "execution_count": 219
        }
      ]
    },
    {
      "cell_type": "markdown",
      "metadata": {
        "id": "fWQI9sTwmqOY",
        "colab_type": "text"
      },
      "source": [
        "### <font color = 'blue'> Exercise #7 </font> \n",
        "1.  Let the **list** L = ['M', 'A', 'S', 'S', 'A', 'C', 'H', 'U', 'S', 'E', 'T', 'S']\n",
        "2.  Use the **set** operation to find the unique entries in the list, call it S.  \n",
        "3.  Use the **zip** operation to now create Z = ordered pairs unique entries of L in alphabatical order with integer 0, 1, 2, 3 etc. \n",
        "4.  Print the entries of Z"
      ]
    },
    {
      "cell_type": "code",
      "metadata": {
        "id": "bHOw1Hr99Vxq",
        "colab_type": "code",
        "colab": {
          "base_uri": "https://localhost:8080/",
          "height": 226
        },
        "outputId": "a009f223-77ae-4ed6-b274-b24f816ab00e"
      },
      "source": [
        "L = ['M', 'A', 'S', 'S', 'A', 'C', 'H', 'U', 'S', 'E', 'T', 'S']\n",
        "S = set(L)\n",
        "L.sort()\n",
        "Z = zip(L)\n",
        "list(Z)\n",
        "\n",
        "\n"
      ],
      "execution_count": 14,
      "outputs": [
        {
          "output_type": "execute_result",
          "data": {
            "text/plain": [
              "[('A',),\n",
              " ('A',),\n",
              " ('C',),\n",
              " ('E',),\n",
              " ('H',),\n",
              " ('M',),\n",
              " ('S',),\n",
              " ('S',),\n",
              " ('S',),\n",
              " ('S',),\n",
              " ('T',),\n",
              " ('U',)]"
            ]
          },
          "metadata": {
            "tags": []
          },
          "execution_count": 14
        }
      ]
    },
    {
      "cell_type": "markdown",
      "metadata": {
        "id": "hdn2_iHHmqOZ",
        "colab_type": "text"
      },
      "source": [
        "## Matrix and vector operations"
      ]
    },
    {
      "cell_type": "code",
      "metadata": {
        "id": "1XPscETymqOZ",
        "colab_type": "code",
        "colab": {}
      },
      "source": [
        "A = np.arange(1, 7).reshape(2, 3)"
      ],
      "execution_count": 0,
      "outputs": []
    },
    {
      "cell_type": "code",
      "metadata": {
        "id": "SwtgxQknmqOb",
        "colab_type": "code",
        "outputId": "cecb4e87-5c84-4b5e-e08c-05bab6b32ec3",
        "colab": {}
      },
      "source": [
        "A"
      ],
      "execution_count": 0,
      "outputs": [
        {
          "output_type": "execute_result",
          "data": {
            "text/plain": [
              "array([[1, 2, 3],\n",
              "       [4, 5, 6]])"
            ]
          },
          "metadata": {
            "tags": []
          },
          "execution_count": 227
        }
      ]
    },
    {
      "cell_type": "code",
      "metadata": {
        "id": "SVA5mfI_mqOd",
        "colab_type": "code",
        "colab": {}
      },
      "source": [
        "B = np.arange(1, 7).reshape(3, 2)"
      ],
      "execution_count": 0,
      "outputs": []
    },
    {
      "cell_type": "code",
      "metadata": {
        "id": "QnhgkdmXmqOg",
        "colab_type": "code",
        "outputId": "bcfb4e63-bca2-4577-eacf-2eaab1a26957",
        "colab": {}
      },
      "source": [
        "B"
      ],
      "execution_count": 0,
      "outputs": [
        {
          "output_type": "execute_result",
          "data": {
            "text/plain": [
              "array([[1, 2],\n",
              "       [3, 4],\n",
              "       [5, 6]])"
            ]
          },
          "metadata": {
            "tags": []
          },
          "execution_count": 229
        }
      ]
    },
    {
      "cell_type": "code",
      "metadata": {
        "id": "yalculFjmqOi",
        "colab_type": "code",
        "outputId": "290e5b86-8c34-4e06-cbb2-c606dc6b21d3",
        "colab": {}
      },
      "source": [
        "np.dot(A, B)"
      ],
      "execution_count": 0,
      "outputs": [
        {
          "output_type": "execute_result",
          "data": {
            "text/plain": [
              "array([[22, 28],\n",
              "       [49, 64]])"
            ]
          },
          "metadata": {
            "tags": []
          },
          "execution_count": 230
        }
      ]
    },
    {
      "cell_type": "code",
      "metadata": {
        "id": "sC1ljqx3mqOj",
        "colab_type": "code",
        "outputId": "363599a1-9d20-4fae-b697-c72091eea073",
        "colab": {}
      },
      "source": [
        "np.dot(B, A)"
      ],
      "execution_count": 0,
      "outputs": [
        {
          "output_type": "execute_result",
          "data": {
            "text/plain": [
              "array([[ 9, 12, 15],\n",
              "       [19, 26, 33],\n",
              "       [29, 40, 51]])"
            ]
          },
          "metadata": {
            "tags": []
          },
          "execution_count": 231
        }
      ]
    },
    {
      "cell_type": "code",
      "metadata": {
        "id": "QlXMh1AEmqOm",
        "colab_type": "code",
        "colab": {}
      },
      "source": [
        "A = np.arange(9).reshape(3, 3)"
      ],
      "execution_count": 0,
      "outputs": []
    },
    {
      "cell_type": "code",
      "metadata": {
        "id": "Y37cn2ZXmqOo",
        "colab_type": "code",
        "outputId": "83bed326-f369-4aad-8800-ac7f6d67e1e0",
        "colab": {}
      },
      "source": [
        "A"
      ],
      "execution_count": 0,
      "outputs": [
        {
          "output_type": "execute_result",
          "data": {
            "text/plain": [
              "array([[0, 1, 2],\n",
              "       [3, 4, 5],\n",
              "       [6, 7, 8]])"
            ]
          },
          "metadata": {
            "tags": []
          },
          "execution_count": 233
        }
      ]
    },
    {
      "cell_type": "code",
      "metadata": {
        "id": "eG2Jw8ipmqOq",
        "colab_type": "code",
        "colab": {}
      },
      "source": [
        "x = np.arange(3)"
      ],
      "execution_count": 0,
      "outputs": []
    },
    {
      "cell_type": "code",
      "metadata": {
        "id": "Endn9Si3mqOr",
        "colab_type": "code",
        "outputId": "7f464824-83c6-4327-80f3-af6a63cc5da3",
        "colab": {}
      },
      "source": [
        "x"
      ],
      "execution_count": 0,
      "outputs": [
        {
          "output_type": "execute_result",
          "data": {
            "text/plain": [
              "array([0, 1, 2])"
            ]
          },
          "metadata": {
            "tags": []
          },
          "execution_count": 235
        }
      ]
    },
    {
      "cell_type": "code",
      "metadata": {
        "id": "Sbj0osl8mqOt",
        "colab_type": "code",
        "outputId": "d0a2b021-13dc-4083-f3e2-7872d711005e",
        "colab": {}
      },
      "source": [
        "np.dot(A, x)"
      ],
      "execution_count": 0,
      "outputs": [
        {
          "output_type": "execute_result",
          "data": {
            "text/plain": [
              "array([ 5, 14, 23])"
            ]
          },
          "metadata": {
            "tags": []
          },
          "execution_count": 236
        }
      ]
    },
    {
      "cell_type": "code",
      "metadata": {
        "id": "pa5cQeaGmqOu",
        "colab_type": "code",
        "outputId": "99fbb0ef-5f0a-4d8f-af63-3122039feaed",
        "colab": {}
      },
      "source": [
        "A.dot(x)"
      ],
      "execution_count": 0,
      "outputs": [
        {
          "output_type": "execute_result",
          "data": {
            "text/plain": [
              "array([ 5, 14, 23])"
            ]
          },
          "metadata": {
            "tags": []
          },
          "execution_count": 237
        }
      ]
    },
    {
      "cell_type": "code",
      "metadata": {
        "id": "L48Jwdt3mqOx",
        "colab_type": "code",
        "colab": {}
      },
      "source": [
        "A = np.random.rand(3,3)\n",
        "B = np.random.rand(3,3)"
      ],
      "execution_count": 0,
      "outputs": []
    },
    {
      "cell_type": "code",
      "metadata": {
        "id": "sUqBxSafmqO3",
        "colab_type": "code",
        "colab": {}
      },
      "source": [
        "Ap = np.dot(B, np.dot(A, np.linalg.inv(B)))"
      ],
      "execution_count": 0,
      "outputs": []
    },
    {
      "cell_type": "code",
      "metadata": {
        "id": "K7xcCtBpmqO4",
        "colab_type": "code",
        "colab": {}
      },
      "source": [
        "Ap = B.dot(A.dot(np.linalg.inv(B)))"
      ],
      "execution_count": 0,
      "outputs": []
    },
    {
      "cell_type": "code",
      "metadata": {
        "id": "HFrzgCV_mqO8",
        "colab_type": "code",
        "colab": {}
      },
      "source": [
        "A = np.matrix(A)"
      ],
      "execution_count": 0,
      "outputs": []
    },
    {
      "cell_type": "code",
      "metadata": {
        "id": "yBxNddDHmqO-",
        "colab_type": "code",
        "colab": {}
      },
      "source": [
        "B = np.matrix(B)"
      ],
      "execution_count": 0,
      "outputs": []
    },
    {
      "cell_type": "code",
      "metadata": {
        "id": "1jVva_U-mqPA",
        "colab_type": "code",
        "colab": {}
      },
      "source": [
        "Ap = B * A * B.I"
      ],
      "execution_count": 0,
      "outputs": []
    },
    {
      "cell_type": "code",
      "metadata": {
        "id": "aRInsN5CmqPB",
        "colab_type": "code",
        "colab": {}
      },
      "source": [
        "A = np.asmatrix(A)"
      ],
      "execution_count": 0,
      "outputs": []
    },
    {
      "cell_type": "code",
      "metadata": {
        "id": "cdGMqK_WmqPE",
        "colab_type": "code",
        "colab": {}
      },
      "source": [
        "B = np.asmatrix(B)"
      ],
      "execution_count": 0,
      "outputs": []
    },
    {
      "cell_type": "code",
      "metadata": {
        "id": "8tuvXs3lmqPF",
        "colab_type": "code",
        "colab": {}
      },
      "source": [
        "Ap = B * A * B.I"
      ],
      "execution_count": 0,
      "outputs": []
    },
    {
      "cell_type": "code",
      "metadata": {
        "id": "uWtquXWlmqPH",
        "colab_type": "code",
        "colab": {}
      },
      "source": [
        "Ap = np.asarray(Ap)"
      ],
      "execution_count": 0,
      "outputs": []
    },
    {
      "cell_type": "code",
      "metadata": {
        "id": "68TLvY_imqPI",
        "colab_type": "code",
        "outputId": "25db9d46-9415-4593-c744-444eb9cd4d7b",
        "colab": {}
      },
      "source": [
        "np.inner(x, x)"
      ],
      "execution_count": 0,
      "outputs": [
        {
          "output_type": "execute_result",
          "data": {
            "text/plain": [
              "5"
            ]
          },
          "metadata": {
            "tags": []
          },
          "execution_count": 248
        }
      ]
    },
    {
      "cell_type": "code",
      "metadata": {
        "id": "5ibUcBdrmqPK",
        "colab_type": "code",
        "outputId": "cdafc11a-c043-40f4-e470-7668efc189d1",
        "colab": {}
      },
      "source": [
        "np.dot(x, x)"
      ],
      "execution_count": 0,
      "outputs": [
        {
          "output_type": "execute_result",
          "data": {
            "text/plain": [
              "5"
            ]
          },
          "metadata": {
            "tags": []
          },
          "execution_count": 249
        }
      ]
    },
    {
      "cell_type": "code",
      "metadata": {
        "id": "qIL_K26xmqPL",
        "colab_type": "code",
        "colab": {}
      },
      "source": [
        "y = x[:, np.newaxis]"
      ],
      "execution_count": 0,
      "outputs": []
    },
    {
      "cell_type": "code",
      "metadata": {
        "id": "AWfbCHz_mqPN",
        "colab_type": "code",
        "outputId": "7ae9749b-6ad7-4558-c678-88cb821ca821",
        "colab": {}
      },
      "source": [
        "y"
      ],
      "execution_count": 0,
      "outputs": [
        {
          "output_type": "execute_result",
          "data": {
            "text/plain": [
              "array([[0],\n",
              "       [1],\n",
              "       [2]])"
            ]
          },
          "metadata": {
            "tags": []
          },
          "execution_count": 251
        }
      ]
    },
    {
      "cell_type": "code",
      "metadata": {
        "id": "1YvUNPIYmqPQ",
        "colab_type": "code",
        "outputId": "8d26dd7a-a697-4419-d055-44e619bb08f9",
        "colab": {}
      },
      "source": [
        "np.dot(y.T, y)"
      ],
      "execution_count": 0,
      "outputs": [
        {
          "output_type": "execute_result",
          "data": {
            "text/plain": [
              "array([[5]])"
            ]
          },
          "metadata": {
            "tags": []
          },
          "execution_count": 252
        }
      ]
    },
    {
      "cell_type": "code",
      "metadata": {
        "id": "j1NI6rKVmqPU",
        "colab_type": "code",
        "colab": {}
      },
      "source": [
        "x = np.array([1, 2, 3])"
      ],
      "execution_count": 0,
      "outputs": []
    },
    {
      "cell_type": "code",
      "metadata": {
        "id": "ic4lpc1RmqPV",
        "colab_type": "code",
        "outputId": "fd64c7d9-a3b0-4d0e-baf2-22e7a6e72628",
        "colab": {}
      },
      "source": [
        "np.outer(x, x) "
      ],
      "execution_count": 0,
      "outputs": [
        {
          "output_type": "execute_result",
          "data": {
            "text/plain": [
              "array([[1, 2, 3],\n",
              "       [2, 4, 6],\n",
              "       [3, 6, 9]])"
            ]
          },
          "metadata": {
            "tags": []
          },
          "execution_count": 254
        }
      ]
    },
    {
      "cell_type": "code",
      "metadata": {
        "id": "7W8Ljc7OmqPX",
        "colab_type": "code",
        "outputId": "4b1b88a4-9f03-409e-bf0e-7ac7869d8670",
        "colab": {}
      },
      "source": [
        "np.kron(x, x) "
      ],
      "execution_count": 0,
      "outputs": [
        {
          "output_type": "execute_result",
          "data": {
            "text/plain": [
              "array([1, 2, 3, 2, 4, 6, 3, 6, 9])"
            ]
          },
          "metadata": {
            "tags": []
          },
          "execution_count": 255
        }
      ]
    },
    {
      "cell_type": "code",
      "metadata": {
        "id": "c6rGz-GRmqPZ",
        "colab_type": "code",
        "outputId": "8e1557b5-ed8d-499e-e9a0-a33e4cc09bb5",
        "colab": {}
      },
      "source": [
        "np.kron(x[:, np.newaxis], x[np.newaxis, :])"
      ],
      "execution_count": 0,
      "outputs": [
        {
          "output_type": "execute_result",
          "data": {
            "text/plain": [
              "array([[1, 2, 3],\n",
              "       [2, 4, 6],\n",
              "       [3, 6, 9]])"
            ]
          },
          "metadata": {
            "tags": []
          },
          "execution_count": 256
        }
      ]
    },
    {
      "cell_type": "code",
      "metadata": {
        "id": "aDAb7uKJmqPa",
        "colab_type": "code",
        "outputId": "0cd86544-6de6-4b78-d7e8-0b98e5581dc3",
        "colab": {}
      },
      "source": [
        "np.kron(np.ones((2,2)), np.identity(2))"
      ],
      "execution_count": 0,
      "outputs": [
        {
          "output_type": "execute_result",
          "data": {
            "text/plain": [
              "array([[ 1.,  0.,  1.,  0.],\n",
              "       [ 0.,  1.,  0.,  1.],\n",
              "       [ 1.,  0.,  1.,  0.],\n",
              "       [ 0.,  1.,  0.,  1.]])"
            ]
          },
          "metadata": {
            "tags": []
          },
          "execution_count": 257
        }
      ]
    },
    {
      "cell_type": "code",
      "metadata": {
        "id": "njvNTE5YmqPc",
        "colab_type": "code",
        "outputId": "565b1c9c-9f0a-4973-efa9-dc80c151f6cd",
        "colab": {}
      },
      "source": [
        "np.kron(np.identity(2), np.ones((2,2)))"
      ],
      "execution_count": 0,
      "outputs": [
        {
          "output_type": "execute_result",
          "data": {
            "text/plain": [
              "array([[ 1.,  1.,  0.,  0.],\n",
              "       [ 1.,  1.,  0.,  0.],\n",
              "       [ 0.,  0.,  1.,  1.],\n",
              "       [ 0.,  0.,  1.,  1.]])"
            ]
          },
          "metadata": {
            "tags": []
          },
          "execution_count": 258
        }
      ]
    },
    {
      "cell_type": "code",
      "metadata": {
        "id": "DWSSpab5mqPe",
        "colab_type": "code",
        "colab": {}
      },
      "source": [
        "x = np.array([1, 2, 3, 4])"
      ],
      "execution_count": 0,
      "outputs": []
    },
    {
      "cell_type": "code",
      "metadata": {
        "id": "YYhUuWDgmqPq",
        "colab_type": "code",
        "colab": {}
      },
      "source": [
        "y = np.array([5, 6, 7, 8])"
      ],
      "execution_count": 0,
      "outputs": []
    },
    {
      "cell_type": "code",
      "metadata": {
        "id": "xoX9CvmimqPs",
        "colab_type": "code",
        "outputId": "40e629fe-5f19-4c1b-9860-8c9365f7f3bc",
        "colab": {}
      },
      "source": [
        "np.einsum(\"n,n\", x, y)"
      ],
      "execution_count": 0,
      "outputs": [
        {
          "output_type": "execute_result",
          "data": {
            "text/plain": [
              "70"
            ]
          },
          "metadata": {
            "tags": []
          },
          "execution_count": 261
        }
      ]
    },
    {
      "cell_type": "code",
      "metadata": {
        "id": "qh9jg4iPmqPv",
        "colab_type": "code",
        "outputId": "49c86ef4-7bc6-4f35-b412-5771efc077c4",
        "colab": {}
      },
      "source": [
        "np.inner(x, y)"
      ],
      "execution_count": 0,
      "outputs": [
        {
          "output_type": "execute_result",
          "data": {
            "text/plain": [
              "70"
            ]
          },
          "metadata": {
            "tags": []
          },
          "execution_count": 262
        }
      ]
    },
    {
      "cell_type": "code",
      "metadata": {
        "id": "cJzpjIgKmqPw",
        "colab_type": "code",
        "colab": {}
      },
      "source": [
        "A = np.arange(9).reshape(3, 3)"
      ],
      "execution_count": 0,
      "outputs": []
    },
    {
      "cell_type": "code",
      "metadata": {
        "id": "czd6QKJLmqPy",
        "colab_type": "code",
        "colab": {}
      },
      "source": [
        "B = A.T"
      ],
      "execution_count": 0,
      "outputs": []
    },
    {
      "cell_type": "code",
      "metadata": {
        "id": "HwWGf0UpmqPz",
        "colab_type": "code",
        "outputId": "bdd8a1a7-779d-40c8-eaa1-384d78db7816",
        "colab": {}
      },
      "source": [
        "np.einsum(\"mk,kn\", A, B)"
      ],
      "execution_count": 0,
      "outputs": [
        {
          "output_type": "execute_result",
          "data": {
            "text/plain": [
              "array([[  5,  14,  23],\n",
              "       [ 14,  50,  86],\n",
              "       [ 23,  86, 149]])"
            ]
          },
          "metadata": {
            "tags": []
          },
          "execution_count": 265
        }
      ]
    },
    {
      "cell_type": "code",
      "metadata": {
        "id": "hsgXvqBKmqP4",
        "colab_type": "code",
        "outputId": "e512a8ab-764a-4cc1-ae03-0a89ac75e13b",
        "colab": {}
      },
      "source": [
        "np.alltrue(np.einsum(\"mk,kn\", A, B) == np.dot(A, B))"
      ],
      "execution_count": 0,
      "outputs": [
        {
          "output_type": "execute_result",
          "data": {
            "text/plain": [
              "True"
            ]
          },
          "metadata": {
            "tags": []
          },
          "execution_count": 266
        }
      ]
    },
    {
      "cell_type": "code",
      "metadata": {
        "id": "g_EMO7WbmqP5",
        "colab_type": "code",
        "colab": {}
      },
      "source": [
        ""
      ],
      "execution_count": 0,
      "outputs": []
    }
  ]
}